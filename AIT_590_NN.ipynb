{
 "cells": [
  {
   "cell_type": "code",
   "execution_count": 0,
   "metadata": {
    "colab": {
     "base_uri": "https://localhost:8080/",
     "height": 241
    },
    "colab_type": "code",
    "id": "85BZCjQ-ukvv",
    "outputId": "82978407-11a1-4040-ebf0-f74307f75c82"
   },
   "outputs": [
    {
     "name": "stdout",
     "output_type": "stream",
     "text": [
      "Collecting emoji\n",
      "\u001b[?25l  Downloading https://files.pythonhosted.org/packages/40/8d/521be7f0091fe0f2ae690cc044faf43e3445e0ff33c574eae752dd7e39fa/emoji-0.5.4.tar.gz (43kB)\n",
      "\r",
      "\u001b[K     |███████▌                        | 10kB 19.3MB/s eta 0:00:01\r",
      "\u001b[K     |███████████████                 | 20kB 2.1MB/s eta 0:00:01\r",
      "\u001b[K     |██████████████████████▋         | 30kB 2.7MB/s eta 0:00:01\r",
      "\u001b[K     |██████████████████████████████▏ | 40kB 3.0MB/s eta 0:00:01\r",
      "\u001b[K     |████████████████████████████████| 51kB 2.0MB/s \n",
      "\u001b[?25hBuilding wheels for collected packages: emoji\n",
      "  Building wheel for emoji (setup.py) ... \u001b[?25l\u001b[?25hdone\n",
      "  Created wheel for emoji: filename=emoji-0.5.4-cp36-none-any.whl size=42176 sha256=2df049c337e26b0a74d8d434eef6d1cf1d5e29ef1caece98296f74099c3c986e\n",
      "  Stored in directory: /root/.cache/pip/wheels/2a/a9/0a/4f8e8cce8074232aba240caca3fade315bb49fac68808d1a9c\n",
      "Successfully built emoji\n",
      "Installing collected packages: emoji\n",
      "Successfully installed emoji-0.5.4\n"
     ]
    },
    {
     "name": "stderr",
     "output_type": "stream",
     "text": [
      "/usr/local/lib/python3.6/dist-packages/sklearn/externals/joblib/__init__.py:15: FutureWarning: sklearn.externals.joblib is deprecated in 0.21 and will be removed in 0.23. Please import this functionality directly from joblib, which can be installed with: pip install joblib. If this warning is raised when loading pickled models, you may need to re-serialize those models with scikit-learn 0.21+.\n",
      "  warnings.warn(msg, category=FutureWarning)\n"
     ]
    }
   ],
   "source": [
    "#import all the packages\n",
    "import numpy as np\n",
    "import pandas as pd\n",
    "import re\n",
    "\n",
    "from nltk.tokenize import RegexpTokenizer\n",
    "from nltk.stem import PorterStemmer\n",
    "!pip install emoji\n",
    "import emoji\n",
    "from sklearn.model_selection import train_test_split\n",
    "from sklearn.feature_extraction.text import CountVectorizer\n",
    "from sklearn.feature_extraction.text import TfidfVectorizer\n",
    "from sklearn.naive_bayes import MultinomialNB\n",
    "import matplotlib.pyplot as plt\n",
    "from sklearn.metrics import classification_report\n",
    "from sklearn.utils import shuffle\n",
    "from sklearn.externals import joblib \n",
    "from sklearn.preprocessing import Normalizer\n",
    "from scipy.sparse import hstack\n",
    "from sklearn.metrics import classification_report\n",
    "from statistics import mean\n",
    "from sklearn.model_selection import StratifiedKFold\n",
    "from sklearn.metrics import accuracy_score\n",
    "from sklearn.linear_model import LogisticRegression\n",
    "from keras.preprocessing.text import Tokenizer\n",
    "from keras.preprocessing.sequence import pad_sequences\n",
    "from keras.models import Sequential\n",
    "from keras.layers import Dense\n",
    "from keras.wrappers.scikit_learn import KerasClassifier\n",
    "from keras.utils import np_utils\n",
    "from sklearn.model_selection import cross_val_score\n",
    "from sklearn.model_selection import KFold\n",
    "from sklearn.preprocessing import LabelEncoder\n",
    "from sklearn.pipeline import Pipeline\n",
    "from keras.layers import Embedding\n",
    "from keras.layers.core import SpatialDropout1D\n",
    "from keras.layers.core import Dropout\n",
    "from keras.layers.recurrent import LSTM\n",
    "from keras.callbacks import ModelCheckpoint, EarlyStopping\n",
    "from keras.layers import Conv1D, GlobalMaxPooling1D\n",
    "from keras.layers import Dense, Activation, Flatten"
   ]
  },
  {
   "cell_type": "code",
   "execution_count": 0,
   "metadata": {
    "colab": {
     "base_uri": "https://localhost:8080/",
     "height": 122
    },
    "colab_type": "code",
    "id": "pMVL4wZLvDCr",
    "outputId": "3633ac5e-0145-4a6b-da87-3c3d9c073579"
   },
   "outputs": [
    {
     "name": "stdout",
     "output_type": "stream",
     "text": [
      "Go to this URL in a browser: https://accounts.google.com/o/oauth2/auth?client_id=947318989803-6bn6qk8qdgf4n4g3pfee6491hc0brc4i.apps.googleusercontent.com&redirect_uri=urn%3aietf%3awg%3aoauth%3a2.0%3aoob&response_type=code&scope=email%20https%3a%2f%2fwww.googleapis.com%2fauth%2fdocs.test%20https%3a%2f%2fwww.googleapis.com%2fauth%2fdrive%20https%3a%2f%2fwww.googleapis.com%2fauth%2fdrive.photos.readonly%20https%3a%2f%2fwww.googleapis.com%2fauth%2fpeopleapi.readonly\n",
      "\n",
      "Enter your authorization code:\n",
      "··········\n",
      "Mounted at /content/drive\n"
     ]
    }
   ],
   "source": [
    "from google.colab import drive\n",
    "drive.mount('/content/drive')"
   ]
  },
  {
   "cell_type": "code",
   "execution_count": 0,
   "metadata": {
    "colab": {
     "base_uri": "https://localhost:8080/",
     "height": 34
    },
    "colab_type": "code",
    "id": "YlsF0fSwukv1",
    "outputId": "fb524083-487b-4988-8917-144d39ef1f7c"
   },
   "outputs": [
    {
     "name": "stderr",
     "output_type": "stream",
     "text": [
      "Using TensorFlow backend.\n"
     ]
    }
   ],
   "source": [
    "from keras.layers import MaxPooling1D"
   ]
  },
  {
   "cell_type": "code",
   "execution_count": 0,
   "metadata": {
    "colab": {},
    "colab_type": "code",
    "id": "hH3a79sUukv4"
   },
   "outputs": [],
   "source": [
    "import keras\n",
    "from keras import backend as b\n",
    "import tensorflow as tf\n",
    "\n",
    "# Define our own loss function\n",
    "def loss(y_true, y_pred):\n",
    "    g = 2.0\n",
    "    a = 0.25\n",
    "    pt_1 = tf.where(tf.equal(y_true, 1), y_pred, tf.ones_like(y_pred))\n",
    "    pt_0 = tf.where(tf.equal(y_true, 0), y_pred, tf.zeros_like(y_pred))\n",
    "    return -b.sum(a * b.pow(1. - pt_1, g) * b.log(pt_1))-b.sum((1-a) * b.pow( pt_0, g) * b.log(1. - pt_0))\n"
   ]
  },
  {
   "cell_type": "code",
   "execution_count": 0,
   "metadata": {
    "colab": {},
    "colab_type": "code",
    "id": "wZl5497Zukv8"
   },
   "outputs": [],
   "source": [
    "# Define a function to load embedding into memory\n",
    "\n",
    "def embedding(filename):\n",
    "\n",
    "    f = open(filename,'r')\n",
    "    lines = f.readlines()\n",
    "    f.close()\n",
    "\n",
    "    emb = dict()\n",
    "    for line in lines:\n",
    "        parts = line.split()\n",
    "        \n",
    "        emb[parts[0]] = np.asarray(parts[1:], dtype='float32')\n",
    "    return emb"
   ]
  },
  {
   "cell_type": "code",
   "execution_count": 0,
   "metadata": {
    "colab": {},
    "colab_type": "code",
    "id": "-wG5zXxtukwA"
   },
   "outputs": [],
   "source": [
    "# define weight matrix dimensions \n",
    "def weight_matrix(embedding, vocab):\n",
    "    vocab_size = len(vocab) + 1\n",
    "    weight_matrix = np.zeros((vocab_size, 300))\n",
    "\n",
    "    for word, i in vocab.items():\n",
    "        vector = embedding.get(word)\n",
    "        if vector is not None:\n",
    "            weight_matrix[i] = vector\n",
    "    return weight_matrix"
   ]
  },
  {
   "cell_type": "code",
   "execution_count": 0,
   "metadata": {
    "colab": {},
    "colab_type": "code",
    "id": "--fEHBZFukwD"
   },
   "outputs": [],
   "source": [
    "#load dataset train set\n",
    "df_train=pd.read_csv(\"/content/drive/My Drive/AIt/trainset (1).csv\")"
   ]
  },
  {
   "cell_type": "code",
   "execution_count": 0,
   "metadata": {
    "colab": {},
    "colab_type": "code",
    "id": "ImN3rBBr6ivT"
   },
   "outputs": [],
   "source": [
    "#load test set\n",
    "df_test=pd.read_csv(\"/content/drive/My Drive/AIt/testset (1).csv\")"
   ]
  },
  {
   "cell_type": "code",
   "execution_count": 0,
   "metadata": {
    "colab": {},
    "colab_type": "code",
    "id": "PdmiyzC4ukwL"
   },
   "outputs": [],
   "source": [
    "#drop unnamed column\n",
    "df_train.drop(df_train.columns[df_train.columns.str.contains('unnamed',case = False)],axis = 1, inplace = True)"
   ]
  },
  {
   "cell_type": "code",
   "execution_count": 0,
   "metadata": {
    "colab": {},
    "colab_type": "code",
    "id": "H_0cu-vF6nhv"
   },
   "outputs": [],
   "source": [
    "#drop unnamed column\n",
    "df_test.drop(df_test.columns[df_test.columns.str.contains('unnamed',case = False)],axis = 1, inplace = True)"
   ]
  },
  {
   "cell_type": "code",
   "execution_count": 0,
   "metadata": {
    "colab": {
     "base_uri": "https://localhost:8080/",
     "height": 51
    },
    "colab_type": "code",
    "id": "CZjtqG4g7mYV",
    "outputId": "caf2175e-9989-44d6-f2e1-882338cf5703"
   },
   "outputs": [
    {
     "name": "stdout",
     "output_type": "stream",
     "text": [
      "(25676,) (25676,)\n",
      "(3576,) (3576,)\n"
     ]
    }
   ],
   "source": [
    "#Take job data in x and fraudulent in y and check the shape\n",
    "X_train=df_train['job_data'].values\n",
    "X_test=df_test['job_data'].values\n",
    "Y_train=df_train['fraudulent']\n",
    "Y_test=df_test['fraudulent']\n",
    "print(X_train.shape,Y_train.shape)\n",
    "print(X_test.shape,Y_test.shape)"
   ]
  },
  {
   "cell_type": "code",
   "execution_count": 0,
   "metadata": {
    "colab": {
     "base_uri": "https://localhost:8080/",
     "height": 34
    },
    "colab_type": "code",
    "id": "4U8CzApKukwW",
    "outputId": "514b2270-6e62-44a4-851c-29a07dd85c9c"
   },
   "outputs": [
    {
     "data": {
      "text/plain": [
       "array([1, 0])"
      ]
     },
     "execution_count": 12,
     "metadata": {
      "tags": []
     },
     "output_type": "execute_result"
    }
   ],
   "source": [
    "#check unique values in y_train\n",
    "Y_train.unique()"
   ]
  },
  {
   "cell_type": "code",
   "execution_count": 0,
   "metadata": {
    "colab": {
     "base_uri": "https://localhost:8080/",
     "height": 136
    },
    "colab_type": "code",
    "id": "7oNxhzR8ukwZ",
    "outputId": "97e3ab8c-ffd7-4a37-ce83-6ce1a350aeb1"
   },
   "outputs": [
    {
     "data": {
      "text/plain": [
       "array([[0, 1],\n",
       "       [0, 1],\n",
       "       [0, 1],\n",
       "       ...,\n",
       "       [1, 0],\n",
       "       [1, 0],\n",
       "       [1, 0]], dtype=uint8)"
      ]
     },
     "execution_count": 13,
     "metadata": {
      "tags": []
     },
     "output_type": "execute_result"
    }
   ],
   "source": [
    "#do one hot encoding for y_train\n",
    "Ytrain = pd.get_dummies(Y_train).values\n",
    "Ytrain"
   ]
  },
  {
   "cell_type": "code",
   "execution_count": 0,
   "metadata": {
    "colab": {
     "base_uri": "https://localhost:8080/",
     "height": 221
    },
    "colab_type": "code",
    "id": "y6AvX9tTukwc",
    "outputId": "fcadf31e-c3e3-404e-d11a-230ea87baa89"
   },
   "outputs": [
    {
     "data": {
      "text/plain": [
       "0       0\n",
       "1       0\n",
       "2       0\n",
       "3       0\n",
       "4       1\n",
       "       ..\n",
       "3571    0\n",
       "3572    0\n",
       "3573    0\n",
       "3574    0\n",
       "3575    0\n",
       "Name: fraudulent, Length: 3576, dtype: int64"
      ]
     },
     "execution_count": 14,
     "metadata": {
      "tags": []
     },
     "output_type": "execute_result"
    }
   ],
   "source": [
    "Y_test"
   ]
  },
  {
   "cell_type": "code",
   "execution_count": 0,
   "metadata": {
    "colab": {
     "base_uri": "https://localhost:8080/",
     "height": 136
    },
    "colab_type": "code",
    "id": "3mUnF5syukwe",
    "outputId": "69478b79-39b8-4651-b568-f44ce33795e8"
   },
   "outputs": [
    {
     "data": {
      "text/plain": [
       "array([[1, 0],\n",
       "       [1, 0],\n",
       "       [1, 0],\n",
       "       ...,\n",
       "       [1, 0],\n",
       "       [1, 0],\n",
       "       [1, 0]], dtype=uint8)"
      ]
     },
     "execution_count": 15,
     "metadata": {
      "tags": []
     },
     "output_type": "execute_result"
    }
   ],
   "source": [
    "#do one hot encoding for y_test\n",
    "Ytest = pd.get_dummies(Y_test).values\n",
    "Ytest"
   ]
  },
  {
   "cell_type": "code",
   "execution_count": 0,
   "metadata": {
    "colab": {},
    "colab_type": "code",
    "id": "-7kaE6zxukwh"
   },
   "outputs": [],
   "source": [
    "# every word is assigned a unique number in the train data\n",
    "tokenizer = Tokenizer()\n",
    "tokenizer.fit_on_texts(X_train)"
   ]
  },
  {
   "cell_type": "code",
   "execution_count": 0,
   "metadata": {
    "colab": {},
    "colab_type": "code",
    "id": "dkdD-UK6ukwj"
   },
   "outputs": [],
   "source": [
    "#the unique values are replaced in the train set\n",
    "encoding_layer = tokenizer.texts_to_sequences(X_train)"
   ]
  },
  {
   "cell_type": "code",
   "execution_count": 0,
   "metadata": {
    "colab": {},
    "colab_type": "code",
    "id": "N6zyWr0Eukwm"
   },
   "outputs": [],
   "source": [
    "#identify longest sequence of words in document and do padding for remaining sequences if needed\n",
    "Xtrain = pad_sequences(encoding_layer, maxlen=3432, padding='post')"
   ]
  },
  {
   "cell_type": "code",
   "execution_count": 0,
   "metadata": {
    "colab": {},
    "colab_type": "code",
    "id": "lrtB6ylrukwq"
   },
   "outputs": [],
   "source": [
    "#finds length of tokens in a document\n",
    "document_size = len(tokenizer.word_index) + 1"
   ]
  },
  {
   "cell_type": "code",
   "execution_count": 0,
   "metadata": {
    "colab": {},
    "colab_type": "code",
    "id": "LbNc1Jawukws"
   },
   "outputs": [],
   "source": [
    "#load the golve 300 to a new variable using the function defined\n",
    "glove_d = embedding('/content/drive/My Drive/AIt/glove.6B.300d.txt')"
   ]
  },
  {
   "cell_type": "code",
   "execution_count": 0,
   "metadata": {
    "colab": {},
    "colab_type": "code",
    "id": "xy6ZMtZNukwu"
   },
   "outputs": [],
   "source": [
    "#load the weights of the words to a new variable\n",
    "embed_vect = weight_matrix(glove_d, tokenizer.word_index)\n",
    "#changing the words in the tokens to 300d vector\n",
    "embed_layer = Embedding(document_size, 300, weights=[embed_vect], input_length=3432, trainable=False)"
   ]
  },
  {
   "cell_type": "code",
   "execution_count": 0,
   "metadata": {
    "colab": {},
    "colab_type": "code",
    "id": "iqYFqW4Sukww"
   },
   "outputs": [],
   "source": [
    "#using sequential 2 layer model with certain parameters\n",
    "cnn = Sequential()\n",
    "cnn.add(embed_layer)\n",
    "\n",
    "cnn.add(Conv1D(100, 2, activation='relu'))\n",
    "\n",
    "cnn.add(MaxPooling1D(2))\n",
    "cnn.add(Conv1D(200, 2, activation='relu'))\n",
    "\n",
    "\n",
    "\n",
    "cnn.add(MaxPooling1D(2))\n",
    "\n",
    "cnn.add(SpatialDropout1D(0.2))\n",
    "\n",
    "cnn.add(Flatten())\n",
    "cnn.add(Dense(2, activation='sigmoid'))\n",
    "cnn.compile(loss=['binary_crossentropy'], optimizer='adam', metrics=['accuracy'])\n"
   ]
  },
  {
   "cell_type": "code",
   "execution_count": 0,
   "metadata": {
    "colab": {
     "base_uri": "https://localhost:8080/",
     "height": 156
    },
    "colab_type": "code",
    "id": "LDTIwC1Uukwy",
    "outputId": "6061b20c-5414-4adb-890c-082612be848c"
   },
   "outputs": [
    {
     "name": "stdout",
     "output_type": "stream",
     "text": [
      "Train on 23108 samples, validate on 2568 samples\n",
      "Epoch 1/3\n",
      "23108/23108 [==============================] - 836s 36ms/step - loss: 0.1625 - accuracy: 0.9311 - val_loss: 0.0244 - val_accuracy: 0.9920\n",
      "Epoch 2/3\n",
      "23108/23108 [==============================] - 832s 36ms/step - loss: 0.0135 - accuracy: 0.9972 - val_loss: 0.0209 - val_accuracy: 0.9936\n",
      "Epoch 3/3\n",
      "23108/23108 [==============================] - 836s 36ms/step - loss: 0.0020 - accuracy: 0.9998 - val_loss: 0.0108 - val_accuracy: 0.9975\n"
     ]
    }
   ],
   "source": [
    "#the final epochs value is 3 and batch size is 64\n",
    "epochs = 3\n",
    "\n",
    "batch_size = 64\n",
    "\n",
    "fit = cnn.fit(Xtrain, Ytrain, epochs=epochs, batch_size=batch_size,validation_split=0.1)\n",
    "\n",
    "\n"
   ]
  },
  {
   "cell_type": "code",
   "execution_count": 0,
   "metadata": {
    "colab": {},
    "colab_type": "code",
    "id": "uU8U3n4Aukw2"
   },
   "outputs": [],
   "source": [
    "# every word is assigned a unique number in the test data\n",
    "encod_layer_test = tokenizer.texts_to_sequences(X_test)"
   ]
  },
  {
   "cell_type": "code",
   "execution_count": 0,
   "metadata": {
    "colab": {},
    "colab_type": "code",
    "id": "QPgkpfsoukw5"
   },
   "outputs": [],
   "source": [
    "#the unique values are replaced in the test set\n",
    "Xtest = pad_sequences(encod_layer_test, maxlen=3432, padding='post')"
   ]
  },
  {
   "cell_type": "code",
   "execution_count": 0,
   "metadata": {
    "colab": {
     "base_uri": "https://localhost:8080/",
     "height": 34
    },
    "colab_type": "code",
    "id": "0cB7_kxPukw9",
    "outputId": "11e35b06-c03e-4389-a700-b6792f603a90"
   },
   "outputs": [
    {
     "name": "stdout",
     "output_type": "stream",
     "text": [
      "Accuracy of the model: 97.930646\n"
     ]
    }
   ],
   "source": [
    "#evaluate model on test set and calculate accuracy\n",
    "loss, accuracy = cnn.evaluate(Xtest, Ytest, verbose=0)\n",
    "print('Accuracy of the model: %f' % (accuracy*100))"
   ]
  },
  {
   "cell_type": "code",
   "execution_count": 0,
   "metadata": {
    "colab": {
     "base_uri": "https://localhost:8080/",
     "height": 425
    },
    "colab_type": "code",
    "id": "D-Exguhqukw_",
    "outputId": "6bdd4343-25b7-46cf-c663-d7b4182d49fe"
   },
   "outputs": [
    {
     "name": "stdout",
     "output_type": "stream",
     "text": [
      "Model: \"sequential_1\"\n",
      "_________________________________________________________________\n",
      "Layer (type)                 Output Shape              Param #   \n",
      "=================================================================\n",
      "embedding_1 (Embedding)      (None, 3432, 300)         23737200  \n",
      "_________________________________________________________________\n",
      "conv1d_1 (Conv1D)            (None, 3431, 100)         60100     \n",
      "_________________________________________________________________\n",
      "max_pooling1d_1 (MaxPooling1 (None, 1715, 100)         0         \n",
      "_________________________________________________________________\n",
      "conv1d_2 (Conv1D)            (None, 1714, 200)         40200     \n",
      "_________________________________________________________________\n",
      "max_pooling1d_2 (MaxPooling1 (None, 857, 200)          0         \n",
      "_________________________________________________________________\n",
      "spatial_dropout1d_1 (Spatial (None, 857, 200)          0         \n",
      "_________________________________________________________________\n",
      "flatten_1 (Flatten)          (None, 171400)            0         \n",
      "_________________________________________________________________\n",
      "dense_1 (Dense)              (None, 2)                 342802    \n",
      "=================================================================\n",
      "Total params: 24,180,302\n",
      "Trainable params: 443,102\n",
      "Non-trainable params: 23,737,200\n",
      "_________________________________________________________________\n"
     ]
    }
   ],
   "source": [
    "#get the summary of the model\n",
    "cnn.summary()"
   ]
  },
  {
   "cell_type": "code",
   "execution_count": 0,
   "metadata": {
    "colab": {},
    "colab_type": "code",
    "id": "hLu1OkeC2eUC"
   },
   "outputs": [],
   "source": [
    "from keras.utils.vis_utils import plot_model"
   ]
  },
  {
   "cell_type": "code",
   "execution_count": 0,
   "metadata": {
    "colab": {
     "base_uri": "https://localhost:8080/",
     "height": 976
    },
    "colab_type": "code",
    "id": "OxNZiZeiukxD",
    "outputId": "93c7394b-df75-4ed0-dbb1-e628c6b57301"
   },
   "outputs": [
    {
     "data": {
      "image/png": "[encoded data removed]",
      "text/plain": [
       "<IPython.core.display.Image object>"
      ]
     },
     "execution_count": 29,
     "metadata": {
      "tags": []
     },
     "output_type": "execute_result"
    }
   ],
   "source": [
    "#plot of the model\n",
    "plot_model(cnn, to_file='model_plot.png', show_shapes=True, show_layer_names=True)"
   ]
  }
 ],
 "metadata": {
  "accelerator": "TPU",
  "colab": {
   "collapsed_sections": [],
   "name": "AIT_590_NN.ipynb",
   "provenance": []
  },
  "environment": {
   "name": "tf-gpu.1-15.m47",
   "type": "gcloud",
   "uri": "gcr.io/deeplearning-platform-release/tf-gpu.1-15:m47"
  },
  "kernelspec": {
   "display_name": "Python 3",
   "language": "python",
   "name": "python3"
  },
  "language_info": {
   "codemirror_mode": {
    "name": "ipython",
    "version": 3
   },
   "file_extension": ".py",
   "mimetype": "text/x-python",
   "name": "python",
   "nbconvert_exporter": "python",
   "pygments_lexer": "ipython3",
   "version": "3.7.3"
  }
 },
 "nbformat": 4,
 "nbformat_minor": 1
}
