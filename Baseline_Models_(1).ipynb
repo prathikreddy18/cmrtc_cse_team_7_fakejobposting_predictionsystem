{
 "cells": [
  {
   "cell_type": "code",
   "execution_count": 0,
   "metadata": {
    "colab": {},
    "colab_type": "code",
    "id": "LKwYz5K590I1"
   },
   "outputs": [],
   "source": [
    "#importing all the required packages\n",
    "import numpy as np\n",
    "import pandas as pd\n",
    "import nltk as nltk\n",
    "from sklearn.model_selection import train_test_split\n",
    "from sklearn.feature_extraction.text import CountVectorizer\n",
    "from sklearn.feature_extraction.text import TfidfTransformer\n",
    "from sklearn.naive_bayes import MultinomialNB\n",
    "from sklearn.metrics import classification_report\n",
    "import sklearn\n",
    "from sklearn.linear_model import LogisticRegression\n",
    "from sklearn.model_selection import cross_val_score\n",
    "from sklearn.model_selection import StratifiedKFold\n",
    "from sklearn.feature_extraction.text import TfidfVectorizer\n",
    "from sklearn.metrics import accuracy_score\n",
    "from sklearn.model_selection import cross_val_score\n",
    "import statistics as s\n",
    "from sklearn.metrics import confusion_matrix "
   ]
  },
  {
   "cell_type": "code",
   "execution_count": 1,
   "metadata": {
    "colab": {
     "base_uri": "https://localhost:8080/",
     "height": 122
    },
    "colab_type": "code",
    "id": "wUCWSAI9ADq5",
    "outputId": "d2acae1e-2a3c-45ca-8c1b-c0fe6e8b92d4"
   },
   "outputs": [
    {
     "name": "stdout",
     "output_type": "stream",
     "text": [
      "Go to this URL in a browser: https://accounts.google.com/o/oauth2/auth?client_id=947318989803-6bn6qk8qdgf4n4g3pfee6491hc0brc4i.apps.googleusercontent.com&redirect_uri=urn%3aietf%3awg%3aoauth%3a2.0%3aoob&response_type=code&scope=email%20https%3a%2f%2fwww.googleapis.com%2fauth%2fdocs.test%20https%3a%2f%2fwww.googleapis.com%2fauth%2fdrive%20https%3a%2f%2fwww.googleapis.com%2fauth%2fdrive.photos.readonly%20https%3a%2f%2fwww.googleapis.com%2fauth%2fpeopleapi.readonly\n",
      "\n",
      "Enter your authorization code:\n",
      "··········\n",
      "Mounted at /content/drive\n"
     ]
    }
   ],
   "source": [
    "from google.colab import drive\n",
    "drive.mount('/content/drive')"
   ]
  },
  {
   "cell_type": "code",
   "execution_count": 0,
   "metadata": {
    "colab": {},
    "colab_type": "code",
    "id": "-D4YR6XV_se7"
   },
   "outputs": [],
   "source": [
    "#importing dataset that is preprocessed\n",
    "df=pd.read_csv('/content/drive/My Drive/AIt/job_text.csv')"
   ]
  },
  {
   "cell_type": "code",
   "execution_count": 0,
   "metadata": {
    "colab": {
     "base_uri": "https://localhost:8080/",
     "height": 204
    },
    "colab_type": "code",
    "id": "DOkUdtLeOEwJ",
    "outputId": "097722e6-29b0-4b00-8422-9effc4a53a2d"
   },
   "outputs": [
    {
     "data": {
      "text/html": [
       "<div>\n",
       "<style scoped>\n",
       "    .dataframe tbody tr th:only-of-type {\n",
       "        vertical-align: middle;\n",
       "    }\n",
       "\n",
       "    .dataframe tbody tr th {\n",
       "        vertical-align: top;\n",
       "    }\n",
       "\n",
       "    .dataframe thead th {\n",
       "        text-align: right;\n",
       "    }\n",
       "</style>\n",
       "<table border=\"1\" class=\"dataframe\">\n",
       "  <thead>\n",
       "    <tr style=\"text-align: right;\">\n",
       "      <th></th>\n",
       "      <th>Unnamed: 0</th>\n",
       "      <th>job_text</th>\n",
       "      <th>fraudulent</th>\n",
       "    </tr>\n",
       "  </thead>\n",
       "  <tbody>\n",
       "    <tr>\n",
       "      <th>0</th>\n",
       "      <td>0</td>\n",
       "      <td>food52 a fast grow jame beard award win onlin ...</td>\n",
       "      <td>0</td>\n",
       "    </tr>\n",
       "    <tr>\n",
       "      <th>1</th>\n",
       "      <td>1</td>\n",
       "      <td>organis focus vibrant awesom ! do you have a p...</td>\n",
       "      <td>0</td>\n",
       "    </tr>\n",
       "    <tr>\n",
       "      <th>2</th>\n",
       "      <td>2</td>\n",
       "      <td>our client locat in houston is activ seek an e...</td>\n",
       "      <td>0</td>\n",
       "    </tr>\n",
       "    <tr>\n",
       "      <th>3</th>\n",
       "      <td>3</td>\n",
       "      <td>the compani esri environment system research i...</td>\n",
       "      <td>0</td>\n",
       "    </tr>\n",
       "    <tr>\n",
       "      <th>4</th>\n",
       "      <td>4</td>\n",
       "      <td>job titl item review managerloc fort worth tx ...</td>\n",
       "      <td>0</td>\n",
       "    </tr>\n",
       "  </tbody>\n",
       "</table>\n",
       "</div>"
      ],
      "text/plain": [
       "   Unnamed: 0                                           job_text  fraudulent\n",
       "0           0  food52 a fast grow jame beard award win onlin ...           0\n",
       "1           1  organis focus vibrant awesom ! do you have a p...           0\n",
       "2           2  our client locat in houston is activ seek an e...           0\n",
       "3           3  the compani esri environment system research i...           0\n",
       "4           4  job titl item review managerloc fort worth tx ...           0"
      ]
     },
     "execution_count": 5,
     "metadata": {
      "tags": []
     },
     "output_type": "execute_result"
    }
   ],
   "source": [
    "df.head()"
   ]
  },
  {
   "cell_type": "code",
   "execution_count": 0,
   "metadata": {
    "colab": {},
    "colab_type": "code",
    "id": "4dr5dz-dOQjo"
   },
   "outputs": [],
   "source": [
    "#Dropping the Un-named column\n",
    "df.drop(df.columns[df.columns.str.contains('unnamed',case = False)],axis = 1, inplace = True)"
   ]
  },
  {
   "cell_type": "code",
   "execution_count": 0,
   "metadata": {
    "colab": {},
    "colab_type": "code",
    "id": "6zR-6ihu_sUP"
   },
   "outputs": [],
   "source": [
    "#Preparing the data for train test split\n",
    "x=df.drop(['fraudulent'],axis=1)\n",
    "y=df['fraudulent']"
   ]
  },
  {
   "cell_type": "code",
   "execution_count": 0,
   "metadata": {
    "colab": {},
    "colab_type": "code",
    "id": "1T-Ag0IS_WHu"
   },
   "outputs": [],
   "source": [
    "#splitting the data into train and test set\n",
    "X_train, X_test, y_train, y_test = train_test_split(x, y, test_size=0.2)"
   ]
  },
  {
   "cell_type": "code",
   "execution_count": 0,
   "metadata": {
    "colab": {},
    "colab_type": "code",
    "id": "8P1f6uOTTAeU"
   },
   "outputs": [],
   "source": [
    "#reset the custom index generated during train, test split\n",
    "X_train.reset_index(drop=True,inplace=True)"
   ]
  },
  {
   "cell_type": "code",
   "execution_count": 0,
   "metadata": {
    "colab": {},
    "colab_type": "code",
    "id": "eDnZBBihSu73"
   },
   "outputs": [],
   "source": [
    "#reset the custom index generated during train, test split\n",
    "y_train.reset_index(drop=True,inplace=True)"
   ]
  },
  {
   "cell_type": "code",
   "execution_count": 0,
   "metadata": {
    "colab": {
     "base_uri": "https://localhost:8080/",
     "height": 666
    },
    "colab_type": "code",
    "id": "r3XBKMO6AhSQ",
    "outputId": "26c440d2-c661-4a58-b862-81b79eb77097"
   },
   "outputs": [
    {
     "name": "stderr",
     "output_type": "stream",
     "text": [
      "/usr/local/lib/python3.6/dist-packages/sklearn/model_selection/_split.py:296: FutureWarning: Setting a random_state has no effect since shuffle is False. This will raise an error in 0.24. You should leave random_state to its default (None), or set shuffle=True.\n",
      "  FutureWarning\n"
     ]
    },
    {
     "name": "stdout",
     "output_type": "stream",
     "text": [
      "[ 2854  2855  2856 ... 14300 14301 14302]\n",
      "[   0    1    2 ... 2942 3005 3035]\n",
      "(11442, 594778)\n",
      "tfidf1\n",
      "0.952464173365956\n",
      "[    0     1     2 ... 14300 14301 14302]\n",
      "[2854 2855 2856 ... 5921 5978 5982]\n"
     ]
    },
    {
     "name": "stderr",
     "output_type": "stream",
     "text": [
      "/usr/local/lib/python3.6/dist-packages/sklearn/metrics/_classification.py:1272: UndefinedMetricWarning: Precision and F-score are ill-defined and being set to 0.0 in labels with no predicted samples. Use `zero_division` parameter to control this behavior.\n",
      "  _warn_prf(average, modifier, msg_start, len(result))\n"
     ]
    },
    {
     "name": "stdout",
     "output_type": "stream",
     "text": [
      "(11442, 593941)\n",
      "tfidf2\n",
      "0.952464173365956\n",
      "[    0     1     2 ... 14300 14301 14302]\n",
      "[5704 5705 5706 ... 8582 8583 8584]\n"
     ]
    },
    {
     "name": "stderr",
     "output_type": "stream",
     "text": [
      "/usr/local/lib/python3.6/dist-packages/sklearn/metrics/_classification.py:1272: UndefinedMetricWarning: Precision and F-score are ill-defined and being set to 0.0 in labels with no predicted samples. Use `zero_division` parameter to control this behavior.\n",
      "  _warn_prf(average, modifier, msg_start, len(result))\n"
     ]
    },
    {
     "name": "stdout",
     "output_type": "stream",
     "text": [
      "(11442, 593348)\n",
      "tfidf3\n",
      "0.952464173365956\n",
      "[    0     1     2 ... 14300 14301 14302]\n",
      "[ 8523  8527  8585 ... 11512 11517 11527]\n"
     ]
    },
    {
     "name": "stderr",
     "output_type": "stream",
     "text": [
      "/usr/local/lib/python3.6/dist-packages/sklearn/metrics/_classification.py:1272: UndefinedMetricWarning: Precision and F-score are ill-defined and being set to 0.0 in labels with no predicted samples. Use `zero_division` parameter to control this behavior.\n",
      "  _warn_prf(average, modifier, msg_start, len(result))\n"
     ]
    },
    {
     "name": "stdout",
     "output_type": "stream",
     "text": [
      "(11443, 594379)\n",
      "tfidf4\n",
      "0.9527972027972028\n",
      "[    0     1     2 ... 11512 11517 11527]\n",
      "[11438 11439 11440 ... 14300 14301 14302]\n"
     ]
    },
    {
     "name": "stderr",
     "output_type": "stream",
     "text": [
      "/usr/local/lib/python3.6/dist-packages/sklearn/metrics/_classification.py:1272: UndefinedMetricWarning: Precision and F-score are ill-defined and being set to 0.0 in labels with no predicted samples. Use `zero_division` parameter to control this behavior.\n",
      "  _warn_prf(average, modifier, msg_start, len(result))\n"
     ]
    },
    {
     "name": "stdout",
     "output_type": "stream",
     "text": [
      "(11443, 591920)\n",
      "tfidf5\n",
      "0.9524475524475524\n"
     ]
    },
    {
     "name": "stderr",
     "output_type": "stream",
     "text": [
      "/usr/local/lib/python3.6/dist-packages/sklearn/metrics/_classification.py:1272: UndefinedMetricWarning: Precision and F-score are ill-defined and being set to 0.0 in labels with no predicted samples. Use `zero_division` parameter to control this behavior.\n",
      "  _warn_prf(average, modifier, msg_start, len(result))\n"
     ]
    }
   ],
   "source": [
    "#Doing K fold Cross Validation on the training set. We use 5 folds so n_splits=5\n",
    "folds = StratifiedKFold(n_splits=5, random_state=0)\n",
    "i=0\n",
    "#create a list for storing accuracy reports and scores\n",
    "acc_report=[]\n",
    "acc_score=[]\n",
    "for train, test in folds.split(X_train, y_train):\n",
    "    print(train)\n",
    "    print(test)\n",
    "    #taking only text data from training data into another variable to perform TF-idf vectorization\n",
    "    x_train1, x_test1 = X_train['job_text'][train], X_train['job_text'][test]\n",
    "    #taking the test data into another variable \n",
    "    y_train1, y_test1 = y_train[train], y_train[test]\n",
    "    i=i+1\n",
    "    \n",
    "    #Using TF-IDF vectorizer to generate a TF-IDF matrix with ngram range (1,2)\n",
    "    tfidf = TfidfVectorizer(stop_words=\"english\",ngram_range=(1,2))\n",
    "    x_train1 = tfidf.fit_transform(x_train1)\n",
    "    print(x_train1.shape)\n",
    "    x_test1 = tfidf.transform(x_test1)\n",
    "    print(\"tfidf\"+str(i))\n",
    "    \n",
    "    #Perform Naive Bayes classification to make predictions on the train data and check how model works on our dataset.\n",
    "    clf = MultinomialNB(alpha=1.0)\n",
    "    clf.fit(x_train1, y_train1)\n",
    "    y_pred = clf.predict(x_test1)\n",
    "    scores = accuracy_score(y_test1, y_pred)\n",
    "    report=classification_report(y_test1, y_pred)\n",
    "    #use append() to store all the 5 reports and scores in the created list\n",
    "    acc_report.append(report)\n",
    "    acc_score.append(scores)\n",
    "    print(scores)"
   ]
  },
  {
   "cell_type": "code",
   "execution_count": 0,
   "metadata": {
    "colab": {
     "base_uri": "https://localhost:8080/",
     "height": 34
    },
    "colab_type": "code",
    "id": "D0DaJwLhAg_d",
    "outputId": "50cde027-916e-4909-95c5-c98b18624b56"
   },
   "outputs": [
    {
     "name": "stdout",
     "output_type": "stream",
     "text": [
      "0.9525274550685247\n"
     ]
    }
   ],
   "source": [
    "#mean of validation score\n",
    "print(s.mean(acc_score))"
   ]
  },
  {
   "cell_type": "code",
   "execution_count": 0,
   "metadata": {
    "colab": {},
    "colab_type": "code",
    "id": "qw6D75aKhnlo"
   },
   "outputs": [],
   "source": [
    "#Now using TF-IDF vectorizer to generate TF-IDF matrix for both X_train and x_test with ngram range (1,2)\n",
    "tfidf = TfidfVectorizer(stop_words=\"english\",ngram_range=(1,2))\n",
    "x_train=tfidf.fit_transform(X_train['job_text'])\n",
    "x_test=tfidf.transform(X_test['job_text'])"
   ]
  },
  {
   "cell_type": "code",
   "execution_count": 0,
   "metadata": {
    "colab": {
     "base_uri": "https://localhost:8080/",
     "height": 34
    },
    "colab_type": "code",
    "id": "F_4y_Fvrj_vx",
    "outputId": "3d2662ad-d525-44f0-9b52-4692503544ab"
   },
   "outputs": [
    {
     "data": {
      "text/plain": [
       "(3576, 680921)"
      ]
     },
     "execution_count": 15,
     "metadata": {
      "tags": []
     },
     "output_type": "execute_result"
    }
   ],
   "source": [
    "# check the shape of train and test data\n",
    "x_train.shape\n",
    "x_test.shape"
   ]
  },
  {
   "cell_type": "code",
   "execution_count": 0,
   "metadata": {
    "colab": {
     "base_uri": "https://localhost:8080/",
     "height": 204
    },
    "colab_type": "code",
    "id": "sizrpZ_ymk66",
    "outputId": "69ae0864-4e83-4554-9918-353ec7b10ab6"
   },
   "outputs": [
    {
     "data": {
      "text/html": [
       "<div>\n",
       "<style scoped>\n",
       "    .dataframe tbody tr th:only-of-type {\n",
       "        vertical-align: middle;\n",
       "    }\n",
       "\n",
       "    .dataframe tbody tr th {\n",
       "        vertical-align: top;\n",
       "    }\n",
       "\n",
       "    .dataframe thead th {\n",
       "        text-align: right;\n",
       "    }\n",
       "</style>\n",
       "<table border=\"1\" class=\"dataframe\">\n",
       "  <thead>\n",
       "    <tr style=\"text-align: right;\">\n",
       "      <th></th>\n",
       "      <th>job_text</th>\n",
       "    </tr>\n",
       "  </thead>\n",
       "  <tbody>\n",
       "    <tr>\n",
       "      <th>0</th>\n",
       "      <td>the state of the art in big data is simpl thin...</td>\n",
       "    </tr>\n",
       "    <tr>\n",
       "      <th>1</th>\n",
       "      <td>base in new york citi sumal is a connect data ...</td>\n",
       "    </tr>\n",
       "    <tr>\n",
       "      <th>2</th>\n",
       "      <td>we have more than 1500 job open in our websit ...</td>\n",
       "    </tr>\n",
       "    <tr>\n",
       "      <th>3</th>\n",
       "      <td>the right candid will be an integr part of our...</td>\n",
       "    </tr>\n",
       "    <tr>\n",
       "      <th>4</th>\n",
       "      <td>you will be respons for work directli with a s...</td>\n",
       "    </tr>\n",
       "  </tbody>\n",
       "</table>\n",
       "</div>"
      ],
      "text/plain": [
       "                                            job_text\n",
       "0  the state of the art in big data is simpl thin...\n",
       "1  base in new york citi sumal is a connect data ...\n",
       "2  we have more than 1500 job open in our websit ...\n",
       "3  the right candid will be an integr part of our...\n",
       "4  you will be respons for work directli with a s..."
      ]
     },
     "execution_count": 16,
     "metadata": {
      "tags": []
     },
     "output_type": "execute_result"
    }
   ],
   "source": [
    "X_train.head()"
   ]
  },
  {
   "cell_type": "code",
   "execution_count": 0,
   "metadata": {
    "colab": {
     "base_uri": "https://localhost:8080/",
     "height": 343
    },
    "colab_type": "code",
    "id": "CcsVAHA0feAq",
    "outputId": "cf89abe1-4b0d-4b3a-9a3b-cdebefcb6af6"
   },
   "outputs": [
    {
     "name": "stdout",
     "output_type": "stream",
     "text": [
      "Naive Bayes results:\n",
      "Accuracy: \n",
      " 0.947986577181208\n",
      "Accuracy report: \n",
      "               precision    recall  f1-score   support\n",
      "\n",
      "           0       0.95      1.00      0.97      3390\n",
      "           1       0.00      0.00      0.00       186\n",
      "\n",
      "    accuracy                           0.95      3576\n",
      "   macro avg       0.47      0.50      0.49      3576\n",
      "weighted avg       0.90      0.95      0.92      3576\n",
      "\n",
      "Confusion Matrix: \n",
      " [[3390    0]\n",
      " [ 186    0]]\n"
     ]
    },
    {
     "name": "stderr",
     "output_type": "stream",
     "text": [
      "/usr/local/lib/python3.6/dist-packages/sklearn/metrics/_classification.py:1272: UndefinedMetricWarning: Precision and F-score are ill-defined and being set to 0.0 in labels with no predicted samples. Use `zero_division` parameter to control this behavior.\n",
      "  _warn_prf(average, modifier, msg_start, len(result))\n"
     ]
    }
   ],
   "source": [
    "#using Naive Bayes with smoothing factor value as 1 and make predictions on test data\n",
    "clf = MultinomialNB(alpha=1.0)\n",
    "clf.fit(x_train, y_train)\n",
    "pred = clf.predict(x_test)\n",
    "scores = accuracy_score(y_test, pred)\n",
    "report=classification_report(y_test, pred)\n",
    "print(\"Naive Bayes results:\")\n",
    "print(\"Accuracy:\",\"\\n\",scores)\n",
    "print(\"Accuracy report:\",\"\\n\",report)\n",
    "print(\"Confusion Matrix:\",\"\\n\",confusion_matrix(y_test, pred))"
   ]
  },
  {
   "cell_type": "code",
   "execution_count": 0,
   "metadata": {
    "colab": {
     "base_uri": "https://localhost:8080/",
     "height": 289
    },
    "colab_type": "code",
    "id": "t_c8PVj4fd6x",
    "outputId": "a379b80a-fe79-4f1c-d3e1-75511e2b2ee7"
   },
   "outputs": [
    {
     "name": "stdout",
     "output_type": "stream",
     "text": [
      "Logistic Regression results:\n",
      "Accuracy: \n",
      " 0.9611297539149888\n",
      "Accuracy report: \n",
      "               precision    recall  f1-score   support\n",
      "\n",
      "           0       0.96      1.00      0.98      3390\n",
      "           1       1.00      0.25      0.40       186\n",
      "\n",
      "    accuracy                           0.96      3576\n",
      "   macro avg       0.98      0.63      0.69      3576\n",
      "weighted avg       0.96      0.96      0.95      3576\n",
      "\n",
      "Confusion Matrix: \n",
      " [[3390    0]\n",
      " [ 139   47]]\n"
     ]
    }
   ],
   "source": [
    "#Using Logistic Regression with default parameters to make predictions on test data\n",
    "classifier = LogisticRegression()\n",
    "classifier.fit(x_train , y_train)\n",
    "prediction=classifier.predict(x_test)\n",
    "model_score = accuracy_score(y_test, prediction)\n",
    "class_report=classification_report(y_test, prediction)\n",
    "print(\"Logistic Regression results:\")\n",
    "print(\"Accuracy:\",\"\\n\",model_score)\n",
    "print(\"Accuracy report:\",\"\\n\",class_report)\n",
    "print(\"Confusion Matrix:\",\"\\n\",confusion_matrix(y_test, prediction))"
   ]
  }
 ],
 "metadata": {
  "accelerator": "GPU",
  "colab": {
   "collapsed_sections": [],
   "name": "Baseline Models (1)",
   "provenance": []
  },
  "kernelspec": {
   "display_name": "Python 3",
   "language": "python",
   "name": "python3"
  },
  "language_info": {
   "codemirror_mode": {
    "name": "ipython",
    "version": 3
   },
   "file_extension": ".py",
   "mimetype": "text/x-python",
   "name": "python",
   "nbconvert_exporter": "python",
   "pygments_lexer": "ipython3",
   "version": "3.7.3"
  }
 },
 "nbformat": 4,
 "nbformat_minor": 1
}
