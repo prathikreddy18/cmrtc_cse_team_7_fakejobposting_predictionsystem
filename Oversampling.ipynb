{
 "cells": [
  {
   "cell_type": "code",
   "execution_count": 0,
   "metadata": {
    "colab": {},
    "colab_type": "code",
    "id": "nF8hYYonf-OL"
   },
   "outputs": [],
   "source": [
    "#importing all the required packages\n",
    "import numpy as np\n",
    "import pandas as pd\n",
    "import nltk as nltk\n",
    "from sklearn.model_selection import train_test_split\n",
    "from sklearn.feature_extraction.text import CountVectorizer\n",
    "from sklearn.feature_extraction.text import TfidfTransformer\n",
    "from sklearn.naive_bayes import MultinomialNB\n",
    "from sklearn.metrics import classification_report\n",
    "import sklearn\n",
    "from sklearn.linear_model import LogisticRegression\n",
    "from sklearn.model_selection import cross_val_score\n",
    "from sklearn.model_selection import StratifiedKFold\n",
    "from sklearn.feature_extraction.text import TfidfVectorizer\n",
    "from sklearn.metrics import accuracy_score\n",
    "from sklearn.model_selection import cross_val_score\n",
    "import statistics as s\n",
    "from sklearn.metrics import confusion_matrix \n",
    "from scipy.sparse import hstack"
   ]
  },
  {
   "cell_type": "code",
   "execution_count": 2,
   "metadata": {
    "colab": {
     "base_uri": "https://localhost:8080/",
     "height": 54
    },
    "colab_type": "code",
    "id": "V7-G3bGSgVsJ",
    "outputId": "ae3c1e7b-8cb1-4944-80be-71fdf0522fb9"
   },
   "outputs": [
    {
     "name": "stdout",
     "output_type": "stream",
     "text": [
      "Drive already mounted at /content/drive; to attempt to forcibly remount, call drive.mount(\"/content/drive\", force_remount=True).\n"
     ]
    }
   ],
   "source": [
    "from google.colab import drive\n",
    "drive.mount('/content/drive')"
   ]
  },
  {
   "cell_type": "code",
   "execution_count": 0,
   "metadata": {
    "colab": {},
    "colab_type": "code",
    "id": "WM4Tr_pOl0Rk"
   },
   "outputs": [],
   "source": [
    "#importing preprocessed data\n",
    "df=pd.read_csv('/content/drive/My Drive/AIt/job_data.csv')"
   ]
  },
  {
   "cell_type": "code",
   "execution_count": 7,
   "metadata": {
    "colab": {
     "base_uri": "https://localhost:8080/",
     "height": 34
    },
    "colab_type": "code",
    "id": "YUUKuSvaGT7a",
    "outputId": "ec04ecbe-fe82-4484-f22a-e93c0010eac3"
   },
   "outputs": [
    {
     "data": {
      "text/plain": [
       "(17879, 16)"
      ]
     },
     "execution_count": 7,
     "metadata": {
      "tags": []
     },
     "output_type": "execute_result"
    }
   ],
   "source": [
    "df.shape"
   ]
  },
  {
   "cell_type": "code",
   "execution_count": 0,
   "metadata": {
    "colab": {},
    "colab_type": "code",
    "id": "QV7l7-FfHTzP"
   },
   "outputs": [],
   "source": [
    "#Dropping the Un-named column\n",
    "df.drop(df.columns[df.columns.str.contains('unnamed',case = False)],axis = 1, inplace = True)"
   ]
  },
  {
   "cell_type": "code",
   "execution_count": 0,
   "metadata": {
    "colab": {},
    "colab_type": "code",
    "id": "8LnhqpuLl0Qe"
   },
   "outputs": [],
   "source": [
    "#Preparing the data for train test split\n",
    "x=df.drop(['fraudulent'],axis=1)\n",
    "y=df['fraudulent']"
   ]
  },
  {
   "cell_type": "code",
   "execution_count": 0,
   "metadata": {
    "colab": {},
    "colab_type": "code",
    "id": "YW-NdGnSl0Ly"
   },
   "outputs": [],
   "source": [
    "#splitting the data into train and test set\n",
    "X_train, X_test, y_train, y_test = train_test_split(x, y, test_size=0.2)"
   ]
  },
  {
   "cell_type": "code",
   "execution_count": 0,
   "metadata": {
    "colab": {},
    "colab_type": "code",
    "id": "JkpR0jdEl0Jh"
   },
   "outputs": [],
   "source": [
    "#reset the custom index generated during train, test split\n",
    "X_train=X_train.reset_index()\n",
    "X_test=X_test.reset_index()\n",
    "y_train=y_train.reset_index()\n",
    "y_test=y_test.reset_index()"
   ]
  },
  {
   "cell_type": "code",
   "execution_count": 0,
   "metadata": {
    "colab": {},
    "colab_type": "code",
    "id": "Gz-B0fcSl0IP"
   },
   "outputs": [],
   "source": [
    "#delete the index generated during train, test split\n",
    "X_train=X_train.drop(['index'],axis=1)\n",
    "X_test=X_test.drop(['index'],axis=1)\n",
    "y_train=y_train.drop(['index'],axis=1)\n",
    "y_test=y_test.drop(['index'],axis=1)"
   ]
  },
  {
   "cell_type": "code",
   "execution_count": 0,
   "metadata": {
    "colab": {},
    "colab_type": "code",
    "id": "IH2QtkaKl0BL"
   },
   "outputs": [],
   "source": [
    "#copy y_train and y_test into x_gtrain and x_test to do oversampling on train set\n",
    "X_train['fraudulent']=y_train\n",
    "X_test['fraudulent']=y_test"
   ]
  },
  {
   "cell_type": "code",
   "execution_count": 14,
   "metadata": {
    "colab": {
     "base_uri": "https://localhost:8080/",
     "height": 666
    },
    "colab_type": "code",
    "id": "XjIZLM3KlzmK",
    "outputId": "0a2dfc40-179a-4efd-bc44-3483c23e4927"
   },
   "outputs": [
    {
     "data": {
      "text/html": [
       "<div>\n",
       "<style scoped>\n",
       "    .dataframe tbody tr th:only-of-type {\n",
       "        vertical-align: middle;\n",
       "    }\n",
       "\n",
       "    .dataframe tbody tr th {\n",
       "        vertical-align: top;\n",
       "    }\n",
       "\n",
       "    .dataframe thead th {\n",
       "        text-align: right;\n",
       "    }\n",
       "</style>\n",
       "<table border=\"1\" class=\"dataframe\">\n",
       "  <thead>\n",
       "    <tr style=\"text-align: right;\">\n",
       "      <th></th>\n",
       "      <th>job_data</th>\n",
       "      <th>telecommuting</th>\n",
       "      <th>has_company_logo</th>\n",
       "      <th>has_questions</th>\n",
       "      <th>Contract</th>\n",
       "      <th>Full-time</th>\n",
       "      <th>Other</th>\n",
       "      <th>Part-time</th>\n",
       "      <th>Temporary</th>\n",
       "      <th>Information Technology</th>\n",
       "      <th>Management</th>\n",
       "      <th>Marketing and Finance</th>\n",
       "      <th>Other.1</th>\n",
       "      <th>Sales</th>\n",
       "      <th>fraudulent</th>\n",
       "    </tr>\n",
       "  </thead>\n",
       "  <tbody>\n",
       "    <tr>\n",
       "      <th>0</th>\n",
       "      <td>execut assist acumen fund we provid recruit se...</td>\n",
       "      <td>0</td>\n",
       "      <td>1</td>\n",
       "      <td>1</td>\n",
       "      <td>0</td>\n",
       "      <td>1</td>\n",
       "      <td>0</td>\n",
       "      <td>0</td>\n",
       "      <td>0</td>\n",
       "      <td>0</td>\n",
       "      <td>1</td>\n",
       "      <td>0</td>\n",
       "      <td>0</td>\n",
       "      <td>0</td>\n",
       "      <td>0</td>\n",
       "    </tr>\n",
       "    <tr>\n",
       "      <th>1</th>\n",
       "      <td>senior web ui develop javascript html5 css3 vi...</td>\n",
       "      <td>0</td>\n",
       "      <td>1</td>\n",
       "      <td>1</td>\n",
       "      <td>0</td>\n",
       "      <td>1</td>\n",
       "      <td>0</td>\n",
       "      <td>0</td>\n",
       "      <td>0</td>\n",
       "      <td>1</td>\n",
       "      <td>0</td>\n",
       "      <td>0</td>\n",
       "      <td>0</td>\n",
       "      <td>0</td>\n",
       "      <td>0</td>\n",
       "    </tr>\n",
       "    <tr>\n",
       "      <th>2</th>\n",
       "      <td>bill clerk the best word to describ pcp s cult...</td>\n",
       "      <td>0</td>\n",
       "      <td>1</td>\n",
       "      <td>1</td>\n",
       "      <td>0</td>\n",
       "      <td>1</td>\n",
       "      <td>0</td>\n",
       "      <td>0</td>\n",
       "      <td>0</td>\n",
       "      <td>1</td>\n",
       "      <td>0</td>\n",
       "      <td>0</td>\n",
       "      <td>0</td>\n",
       "      <td>0</td>\n",
       "      <td>0</td>\n",
       "    </tr>\n",
       "    <tr>\n",
       "      <th>3</th>\n",
       "      <td>custom servic associ novitex enterpris solut f...</td>\n",
       "      <td>0</td>\n",
       "      <td>1</td>\n",
       "      <td>0</td>\n",
       "      <td>0</td>\n",
       "      <td>1</td>\n",
       "      <td>0</td>\n",
       "      <td>0</td>\n",
       "      <td>0</td>\n",
       "      <td>0</td>\n",
       "      <td>0</td>\n",
       "      <td>0</td>\n",
       "      <td>1</td>\n",
       "      <td>0</td>\n",
       "      <td>0</td>\n",
       "    </tr>\n",
       "    <tr>\n",
       "      <th>4</th>\n",
       "      <td>bankruptci specialist tidewat financ co wa est...</td>\n",
       "      <td>0</td>\n",
       "      <td>1</td>\n",
       "      <td>0</td>\n",
       "      <td>0</td>\n",
       "      <td>1</td>\n",
       "      <td>0</td>\n",
       "      <td>0</td>\n",
       "      <td>0</td>\n",
       "      <td>1</td>\n",
       "      <td>0</td>\n",
       "      <td>0</td>\n",
       "      <td>0</td>\n",
       "      <td>0</td>\n",
       "      <td>0</td>\n",
       "    </tr>\n",
       "  </tbody>\n",
       "</table>\n",
       "</div>"
      ],
      "text/plain": [
       "                                            job_data  ...  fraudulent\n",
       "0  execut assist acumen fund we provid recruit se...  ...           0\n",
       "1  senior web ui develop javascript html5 css3 vi...  ...           0\n",
       "2  bill clerk the best word to describ pcp s cult...  ...           0\n",
       "3  custom servic associ novitex enterpris solut f...  ...           0\n",
       "4  bankruptci specialist tidewat financ co wa est...  ...           0\n",
       "\n",
       "[5 rows x 15 columns]"
      ]
     },
     "execution_count": 14,
     "metadata": {
      "tags": []
     },
     "output_type": "execute_result"
    }
   ],
   "source": [
    "X_train.head()\n"
   ]
  },
  {
   "cell_type": "code",
   "execution_count": 0,
   "metadata": {
    "colab": {},
    "colab_type": "code",
    "id": "4Sxm0C9e3wHw"
   },
   "outputs": [],
   "source": [
    "#separate the non-fraudulent data and fraudulent data to duplicate fraudulent data\n",
    "nonfraudulent_train=X_train[X_train['fraudulent']==0]\n",
    "fraudulent_train=X_train[X_train['fraudulent']==1]"
   ]
  },
  {
   "cell_type": "code",
   "execution_count": 0,
   "metadata": {
    "colab": {},
    "colab_type": "code",
    "id": "IFs_uiBN3wK5"
   },
   "outputs": [],
   "source": [
    "#duplicate the fraudulent data by 17 times\n",
    "#after conducting experiments duplicating it 17 times gives optimal accuracy\n",
    "fraudulent_train=fraudulent_train.append([fraudulent_train]*17,ignore_index=True)"
   ]
  },
  {
   "cell_type": "code",
   "execution_count": 0,
   "metadata": {
    "colab": {},
    "colab_type": "code",
    "id": "gdKMZiXi3weQ"
   },
   "outputs": [],
   "source": [
    "#join the duplicated fraudulent data to the non fraudulent data\n",
    "final_train=fraudulent_train.append(nonfraudulent_train,ignore_index=True)\n",
    "final_test=X_test"
   ]
  },
  {
   "cell_type": "code",
   "execution_count": 0,
   "metadata": {
    "colab": {},
    "colab_type": "code",
    "id": "y_ZwXCydsl1i"
   },
   "outputs": [],
   "source": [
    "#save these train and test sets to use it for CNN model\n",
    "final_train.to_csv(\"trainset.csv\")\n",
    "final_test.to_csv(\"testset.csv\")"
   ]
  },
  {
   "cell_type": "code",
   "execution_count": 19,
   "metadata": {
    "colab": {
     "base_uri": "https://localhost:8080/",
     "height": 615
    },
    "colab_type": "code",
    "id": "CZZI06FG3wj9",
    "outputId": "0bcf11f1-b49e-4d23-eb44-ba90acca0b86"
   },
   "outputs": [
    {
     "data": {
      "text/html": [
       "<div>\n",
       "<style scoped>\n",
       "    .dataframe tbody tr th:only-of-type {\n",
       "        vertical-align: middle;\n",
       "    }\n",
       "\n",
       "    .dataframe tbody tr th {\n",
       "        vertical-align: top;\n",
       "    }\n",
       "\n",
       "    .dataframe thead th {\n",
       "        text-align: right;\n",
       "    }\n",
       "</style>\n",
       "<table border=\"1\" class=\"dataframe\">\n",
       "  <thead>\n",
       "    <tr style=\"text-align: right;\">\n",
       "      <th></th>\n",
       "      <th>job_data</th>\n",
       "      <th>telecommuting</th>\n",
       "      <th>has_company_logo</th>\n",
       "      <th>has_questions</th>\n",
       "      <th>Contract</th>\n",
       "      <th>Full-time</th>\n",
       "      <th>Other</th>\n",
       "      <th>Part-time</th>\n",
       "      <th>Temporary</th>\n",
       "      <th>Information Technology</th>\n",
       "      <th>Management</th>\n",
       "      <th>Marketing and Finance</th>\n",
       "      <th>Other.1</th>\n",
       "      <th>Sales</th>\n",
       "      <th>fraudulent</th>\n",
       "    </tr>\n",
       "  </thead>\n",
       "  <tbody>\n",
       "    <tr>\n",
       "      <th>0</th>\n",
       "      <td>execut sou chef le meridien is situat in the h...</td>\n",
       "      <td>0</td>\n",
       "      <td>1</td>\n",
       "      <td>0</td>\n",
       "      <td>1</td>\n",
       "      <td>0</td>\n",
       "      <td>0</td>\n",
       "      <td>0</td>\n",
       "      <td>0</td>\n",
       "      <td>1</td>\n",
       "      <td>0</td>\n",
       "      <td>0</td>\n",
       "      <td>0</td>\n",
       "      <td>0</td>\n",
       "      <td>1</td>\n",
       "    </tr>\n",
       "    <tr>\n",
       "      <th>1</th>\n",
       "      <td>account manag noinform account managerjoin a g...</td>\n",
       "      <td>0</td>\n",
       "      <td>0</td>\n",
       "      <td>0</td>\n",
       "      <td>0</td>\n",
       "      <td>0</td>\n",
       "      <td>0</td>\n",
       "      <td>1</td>\n",
       "      <td>0</td>\n",
       "      <td>0</td>\n",
       "      <td>0</td>\n",
       "      <td>0</td>\n",
       "      <td>0</td>\n",
       "      <td>1</td>\n",
       "      <td>1</td>\n",
       "    </tr>\n",
       "    <tr>\n",
       "      <th>2</th>\n",
       "      <td>we need 25 agent grow compani see below noinfo...</td>\n",
       "      <td>0</td>\n",
       "      <td>0</td>\n",
       "      <td>0</td>\n",
       "      <td>0</td>\n",
       "      <td>1</td>\n",
       "      <td>0</td>\n",
       "      <td>0</td>\n",
       "      <td>0</td>\n",
       "      <td>1</td>\n",
       "      <td>0</td>\n",
       "      <td>0</td>\n",
       "      <td>0</td>\n",
       "      <td>0</td>\n",
       "      <td>1</td>\n",
       "    </tr>\n",
       "    <tr>\n",
       "      <th>3</th>\n",
       "      <td>cash pay vacanc appli today noinform cash pay ...</td>\n",
       "      <td>0</td>\n",
       "      <td>0</td>\n",
       "      <td>0</td>\n",
       "      <td>0</td>\n",
       "      <td>0</td>\n",
       "      <td>0</td>\n",
       "      <td>1</td>\n",
       "      <td>0</td>\n",
       "      <td>0</td>\n",
       "      <td>0</td>\n",
       "      <td>1</td>\n",
       "      <td>0</td>\n",
       "      <td>0</td>\n",
       "      <td>1</td>\n",
       "    </tr>\n",
       "    <tr>\n",
       "      <th>4</th>\n",
       "      <td>optician noinform long term establish and resp...</td>\n",
       "      <td>0</td>\n",
       "      <td>0</td>\n",
       "      <td>0</td>\n",
       "      <td>0</td>\n",
       "      <td>1</td>\n",
       "      <td>0</td>\n",
       "      <td>0</td>\n",
       "      <td>0</td>\n",
       "      <td>0</td>\n",
       "      <td>0</td>\n",
       "      <td>0</td>\n",
       "      <td>0</td>\n",
       "      <td>1</td>\n",
       "      <td>1</td>\n",
       "    </tr>\n",
       "  </tbody>\n",
       "</table>\n",
       "</div>"
      ],
      "text/plain": [
       "                                            job_data  ...  fraudulent\n",
       "0  execut sou chef le meridien is situat in the h...  ...           1\n",
       "1  account manag noinform account managerjoin a g...  ...           1\n",
       "2  we need 25 agent grow compani see below noinfo...  ...           1\n",
       "3  cash pay vacanc appli today noinform cash pay ...  ...           1\n",
       "4  optician noinform long term establish and resp...  ...           1\n",
       "\n",
       "[5 rows x 15 columns]"
      ]
     },
     "execution_count": 19,
     "metadata": {
      "tags": []
     },
     "output_type": "execute_result"
    }
   ],
   "source": [
    "final_train.head()"
   ]
  },
  {
   "cell_type": "code",
   "execution_count": 0,
   "metadata": {
    "colab": {},
    "colab_type": "code",
    "id": "PGdV0_J56KWY"
   },
   "outputs": [],
   "source": [
    "# copy the data frame into a new variable to use it for horizontal stack\n",
    "new_df=final_train.copy()\n",
    "new_df.drop(['job_data','fraudulent'],axis=1,inplace=True)"
   ]
  },
  {
   "cell_type": "code",
   "execution_count": 21,
   "metadata": {
    "colab": {
     "base_uri": "https://localhost:8080/",
     "height": 34
    },
    "colab_type": "code",
    "id": "Nf_bfzEABM-7",
    "outputId": "229dd25c-eb86-4d0d-b945-9834aa388ba9"
   },
   "outputs": [
    {
     "data": {
      "text/plain": [
       "(25795, 15)"
      ]
     },
     "execution_count": 21,
     "metadata": {
      "tags": []
     },
     "output_type": "execute_result"
    }
   ],
   "source": [
    "#We see that train set increased from 17000 to 25000 after oversampling\n",
    "final_train.shape"
   ]
  },
  {
   "cell_type": "code",
   "execution_count": 22,
   "metadata": {
    "colab": {
     "base_uri": "https://localhost:8080/",
     "height": 34
    },
    "colab_type": "code",
    "id": "27mt7acKt7jI",
    "outputId": "3f049390-81d3-4ca4-84a4-8f29dc8e0c68"
   },
   "outputs": [
    {
     "data": {
      "text/plain": [
       "(3576, 1)"
      ]
     },
     "execution_count": 22,
     "metadata": {
      "tags": []
     },
     "output_type": "execute_result"
    }
   ],
   "source": [
    "#The test set remain same as we do not want leakage of data\n",
    "y_test.shape"
   ]
  },
  {
   "cell_type": "code",
   "execution_count": 0,
   "metadata": {
    "colab": {},
    "colab_type": "code",
    "id": "poMppj2-6KZ0"
   },
   "outputs": [],
   "source": [
    "#arrange the data into final train and test sets\n",
    "finalx_train=final_train.drop('fraudulent',axis=1)\n",
    "finaly_train=final_train['fraudulent']\n",
    "finalx_test= X_test.drop('fraudulent',axis=1)\n",
    "finaly_test= X_test['fraudulent']\n"
   ]
  },
  {
   "cell_type": "code",
   "execution_count": 24,
   "metadata": {
    "colab": {
     "base_uri": "https://localhost:8080/",
     "height": 615
    },
    "colab_type": "code",
    "id": "PdT3_Ly4PLqj",
    "outputId": "db4ba1eb-2b78-4100-ff71-c8164baaeadd"
   },
   "outputs": [
    {
     "data": {
      "text/html": [
       "<div>\n",
       "<style scoped>\n",
       "    .dataframe tbody tr th:only-of-type {\n",
       "        vertical-align: middle;\n",
       "    }\n",
       "\n",
       "    .dataframe tbody tr th {\n",
       "        vertical-align: top;\n",
       "    }\n",
       "\n",
       "    .dataframe thead th {\n",
       "        text-align: right;\n",
       "    }\n",
       "</style>\n",
       "<table border=\"1\" class=\"dataframe\">\n",
       "  <thead>\n",
       "    <tr style=\"text-align: right;\">\n",
       "      <th></th>\n",
       "      <th>job_data</th>\n",
       "      <th>telecommuting</th>\n",
       "      <th>has_company_logo</th>\n",
       "      <th>has_questions</th>\n",
       "      <th>Contract</th>\n",
       "      <th>Full-time</th>\n",
       "      <th>Other</th>\n",
       "      <th>Part-time</th>\n",
       "      <th>Temporary</th>\n",
       "      <th>Information Technology</th>\n",
       "      <th>Management</th>\n",
       "      <th>Marketing and Finance</th>\n",
       "      <th>Other.1</th>\n",
       "      <th>Sales</th>\n",
       "    </tr>\n",
       "  </thead>\n",
       "  <tbody>\n",
       "    <tr>\n",
       "      <th>0</th>\n",
       "      <td>execut sou chef le meridien is situat in the h...</td>\n",
       "      <td>0</td>\n",
       "      <td>1</td>\n",
       "      <td>0</td>\n",
       "      <td>1</td>\n",
       "      <td>0</td>\n",
       "      <td>0</td>\n",
       "      <td>0</td>\n",
       "      <td>0</td>\n",
       "      <td>1</td>\n",
       "      <td>0</td>\n",
       "      <td>0</td>\n",
       "      <td>0</td>\n",
       "      <td>0</td>\n",
       "    </tr>\n",
       "    <tr>\n",
       "      <th>1</th>\n",
       "      <td>account manag noinform account managerjoin a g...</td>\n",
       "      <td>0</td>\n",
       "      <td>0</td>\n",
       "      <td>0</td>\n",
       "      <td>0</td>\n",
       "      <td>0</td>\n",
       "      <td>0</td>\n",
       "      <td>1</td>\n",
       "      <td>0</td>\n",
       "      <td>0</td>\n",
       "      <td>0</td>\n",
       "      <td>0</td>\n",
       "      <td>0</td>\n",
       "      <td>1</td>\n",
       "    </tr>\n",
       "    <tr>\n",
       "      <th>2</th>\n",
       "      <td>we need 25 agent grow compani see below noinfo...</td>\n",
       "      <td>0</td>\n",
       "      <td>0</td>\n",
       "      <td>0</td>\n",
       "      <td>0</td>\n",
       "      <td>1</td>\n",
       "      <td>0</td>\n",
       "      <td>0</td>\n",
       "      <td>0</td>\n",
       "      <td>1</td>\n",
       "      <td>0</td>\n",
       "      <td>0</td>\n",
       "      <td>0</td>\n",
       "      <td>0</td>\n",
       "    </tr>\n",
       "    <tr>\n",
       "      <th>3</th>\n",
       "      <td>cash pay vacanc appli today noinform cash pay ...</td>\n",
       "      <td>0</td>\n",
       "      <td>0</td>\n",
       "      <td>0</td>\n",
       "      <td>0</td>\n",
       "      <td>0</td>\n",
       "      <td>0</td>\n",
       "      <td>1</td>\n",
       "      <td>0</td>\n",
       "      <td>0</td>\n",
       "      <td>0</td>\n",
       "      <td>1</td>\n",
       "      <td>0</td>\n",
       "      <td>0</td>\n",
       "    </tr>\n",
       "    <tr>\n",
       "      <th>4</th>\n",
       "      <td>optician noinform long term establish and resp...</td>\n",
       "      <td>0</td>\n",
       "      <td>0</td>\n",
       "      <td>0</td>\n",
       "      <td>0</td>\n",
       "      <td>1</td>\n",
       "      <td>0</td>\n",
       "      <td>0</td>\n",
       "      <td>0</td>\n",
       "      <td>0</td>\n",
       "      <td>0</td>\n",
       "      <td>0</td>\n",
       "      <td>0</td>\n",
       "      <td>1</td>\n",
       "    </tr>\n",
       "  </tbody>\n",
       "</table>\n",
       "</div>"
      ],
      "text/plain": [
       "                                            job_data  ...  Sales\n",
       "0  execut sou chef le meridien is situat in the h...  ...      0\n",
       "1  account manag noinform account managerjoin a g...  ...      1\n",
       "2  we need 25 agent grow compani see below noinfo...  ...      0\n",
       "3  cash pay vacanc appli today noinform cash pay ...  ...      0\n",
       "4  optician noinform long term establish and resp...  ...      1\n",
       "\n",
       "[5 rows x 14 columns]"
      ]
     },
     "execution_count": 24,
     "metadata": {
      "tags": []
     },
     "output_type": "execute_result"
    }
   ],
   "source": [
    "finalx_train.head()"
   ]
  },
  {
   "cell_type": "code",
   "execution_count": 25,
   "metadata": {
    "colab": {
     "base_uri": "https://localhost:8080/",
     "height": 326
    },
    "colab_type": "code",
    "id": "NabDpN2A6KfP",
    "outputId": "1d536a2b-5eb8-4f9b-83da-822879728064"
   },
   "outputs": [
    {
     "name": "stderr",
     "output_type": "stream",
     "text": [
      "/usr/local/lib/python3.6/dist-packages/sklearn/model_selection/_split.py:296: FutureWarning: Setting a random_state has no effect since shuffle is False. This will raise an error in 0.24. You should leave random_state to its default (None), or set shuffle=True.\n",
      "  FutureWarning\n"
     ]
    },
    {
     "name": "stdout",
     "output_type": "stream",
     "text": [
      "[ 2434  2435  2436 ... 25792 25793 25794]\n",
      "[    0     1     2 ... 14890 14891 14892]\n",
      "tfidf1\n",
      "[    0     1     2 ... 25792 25793 25794]\n",
      "[ 2434  2435  2436 ... 17615 17616 17617]\n",
      "tfidf2\n",
      "[    0     1     2 ... 25792 25793 25794]\n",
      "[ 4868  4869  4870 ... 20340 20341 20342]\n",
      "tfidf3\n",
      "[    0     1     2 ... 25792 25793 25794]\n",
      "[ 7302  7303  7304 ... 23066 23067 23068]\n",
      "tfidf4\n",
      "[    0     1     2 ... 23066 23067 23068]\n",
      "[ 9735  9736  9737 ... 25792 25793 25794]\n",
      "tfidf5\n"
     ]
    }
   ],
   "source": [
    "#Doing K fold Cross Validation on the training set. We use 5 folds so n_splits=5\n",
    "folds = StratifiedKFold(n_splits=5, random_state=0)\n",
    "i=0\n",
    "#create a list for storing accuracy reports and scores\n",
    "acc_report=[]\n",
    "acc_score=[]\n",
    "for train, test in folds.split(finalx_train, finaly_train):\n",
    "    print(train)\n",
    "    print(test)\n",
    "    #taking only text data from training data into another variable to perform TF-idf vectorization\n",
    "    x_train1, x_test1 = finalx_train['job_data'][train], finalx_train['job_data'][test]\n",
    "    #taking the test data into another variable \n",
    "    y_train1, y_test1 = finaly_train[train], finaly_train[test]\n",
    "    i=i+1\n",
    "    #Using TF-IDF vectorizer to generate a TF-IDF matrix with ngram range (1,2)\n",
    "    tfidf = TfidfVectorizer(stop_words=\"english\",ngram_range=(1,2))\n",
    "    x_train1 = tfidf.fit_transform(x_train1)\n",
    "    x_test1 = tfidf.transform(x_test1)\n",
    "    print(\"tfidf\"+str(i))\n",
    "    \n",
    "    #Using the copy of the dataframe with no job_data to access the other features of the dataset\n",
    "    rx_train=new_df.iloc[train]\n",
    "    rx_test=new_df.iloc[test]\n",
    "\n",
    "    #Use hstack to horizontally stack the job_data Tf-idf matrix to other features of the dataset\n",
    "    xtrain_data=hstack( [x_train1,rx_train] )\n",
    "    xtest_data=hstack( [x_test1,rx_test] )\n",
    "\n",
    "    #Perform Naive Bayes classification to make predictions on the train data and check how model works on our dataset.\n",
    "    clf = MultinomialNB(alpha=1.0)\n",
    "    clf.fit(xtrain_data, y_train1)\n",
    "    y_pred = clf.predict(xtest_data)\n",
    "    scores = accuracy_score(y_test1, y_pred)\n",
    "    report=classification_report(y_test1,y_pred)\n",
    "    #use append() to store all the 5 reports and scores in the created list\n",
    "    acc_report.append(report)\n",
    "    acc_score.append(scores)\n"
   ]
  },
  {
   "cell_type": "code",
   "execution_count": 27,
   "metadata": {
    "colab": {
     "base_uri": "https://localhost:8080/",
     "height": 34
    },
    "colab_type": "code",
    "id": "59tWGPDQ4WcJ",
    "outputId": "e705f323-a0f3-4b2e-953b-d0077d2bcc87"
   },
   "outputs": [
    {
     "name": "stdout",
     "output_type": "stream",
     "text": [
      "0.9913549137429735\n"
     ]
    }
   ],
   "source": [
    "#mean of validation scores\n",
    "print(s.mean(acc_score))"
   ]
  },
  {
   "cell_type": "code",
   "execution_count": 0,
   "metadata": {
    "colab": {},
    "colab_type": "code",
    "id": "eFDCVYtPDtdm"
   },
   "outputs": [],
   "source": [
    "#Now using TF-IDF vectorizer to generate TF-IDF matrix for both X_train and x_test with ngram range (1,2)\n",
    "tfidf = TfidfVectorizer(stop_words=\"english\",ngram_range=(1,2))\n",
    "x_train=tfidf.fit_transform(finalx_train['job_data'])\n",
    "x_test=tfidf.transform(finalx_test['job_data'])"
   ]
  },
  {
   "cell_type": "code",
   "execution_count": 0,
   "metadata": {
    "colab": {},
    "colab_type": "code",
    "id": "SDVAgOwlDtgT"
   },
   "outputs": [],
   "source": [
    "#Drop job_data from train and test set for horizontal stacking of job_data's TF-IDF matrix\n",
    "finalx_train.drop('job_data',axis=1,inplace=True)\n",
    "finalx_test.drop('job_data',axis=1,inplace=True)"
   ]
  },
  {
   "cell_type": "code",
   "execution_count": 0,
   "metadata": {
    "colab": {},
    "colab_type": "code",
    "id": "gvomziSUDtbJ"
   },
   "outputs": [],
   "source": [
    "#Use hstack to horizontal stack the TF-IDF matrix to the other features\n",
    "train_data=hstack( [finalx_train,x_train] )\n",
    "test_data=hstack( [finalx_test,x_test] )"
   ]
  },
  {
   "cell_type": "code",
   "execution_count": 30,
   "metadata": {
    "colab": {
     "base_uri": "https://localhost:8080/",
     "height": 34
    },
    "colab_type": "code",
    "id": "1C_xrZzdTkx6",
    "outputId": "76daacec-85f9-48aa-af05-08eaa5d52724"
   },
   "outputs": [
    {
     "data": {
      "text/plain": [
       "(25795, 773419)"
      ]
     },
     "execution_count": 30,
     "metadata": {
      "tags": []
     },
     "output_type": "execute_result"
    }
   ],
   "source": [
    "#check the shape of train data after horizontal stack\n",
    "train_data.shape"
   ]
  },
  {
   "cell_type": "code",
   "execution_count": 31,
   "metadata": {
    "colab": {
     "base_uri": "https://localhost:8080/",
     "height": 34
    },
    "colab_type": "code",
    "id": "umVUgyLZTk4U",
    "outputId": "67d98049-817f-4ec0-ea88-2ae8637e2ba2"
   },
   "outputs": [
    {
     "data": {
      "text/plain": [
       "(25795, 773406)"
      ]
     },
     "execution_count": 31,
     "metadata": {
      "tags": []
     },
     "output_type": "execute_result"
    }
   ],
   "source": [
    "#check the shape of train data before horizontal stack\n",
    "#The difference of before and after shape is 13 which mean all the other features have been appended correctly\n",
    "x_train.shape"
   ]
  },
  {
   "cell_type": "code",
   "execution_count": 32,
   "metadata": {
    "colab": {
     "base_uri": "https://localhost:8080/",
     "height": 272
    },
    "colab_type": "code",
    "id": "O93SifhMTk1b",
    "outputId": "0696fa0d-6681-4844-eab6-ec031003024f"
   },
   "outputs": [
    {
     "name": "stdout",
     "output_type": "stream",
     "text": [
      "Accuracy: \n",
      " 0.9812639821029083\n",
      "Accuracy report: \n",
      "               precision    recall  f1-score   support\n",
      "\n",
      "           0       0.99      0.99      0.99      3387\n",
      "           1       0.80      0.87      0.83       189\n",
      "\n",
      "    accuracy                           0.98      3576\n",
      "   macro avg       0.89      0.93      0.91      3576\n",
      "weighted avg       0.98      0.98      0.98      3576\n",
      "\n",
      "Confusion Matrix: \n",
      " [[3345   42]\n",
      " [  25  164]]\n"
     ]
    }
   ],
   "source": [
    "#using Naive Bayes with smoothing factor value as 1 and make predictionb on test data\n",
    "clf = MultinomialNB(alpha=1.0)\n",
    "clf.fit(train_data,finaly_train)\n",
    "pred = clf.predict(test_data)\n",
    "scores = accuracy_score(finaly_test, pred)\n",
    "report=classification_report(finaly_test, pred)\n",
    "# Print the accuracy report, scores and confusion matrix\n",
    "print(\"Accuracy:\",\"\\n\",scores)\n",
    "print(\"Accuracy report:\",\"\\n\",report)\n",
    "print(\"Confusion Matrix:\",\"\\n\",confusion_matrix(y_test, pred))"
   ]
  },
  {
   "cell_type": "code",
   "execution_count": 33,
   "metadata": {
    "colab": {
     "base_uri": "https://localhost:8080/",
     "height": 428
    },
    "colab_type": "code",
    "id": "0ejPIsXtVi1g",
    "outputId": "ea5e8b83-9bae-4f94-e3e4-39aab64a24b9"
   },
   "outputs": [
    {
     "name": "stdout",
     "output_type": "stream",
     "text": [
      "Accuracy: \n",
      " 0.9711968680089486\n",
      "Accuracy report: \n",
      "               precision    recall  f1-score   support\n",
      "\n",
      "           0       0.99      0.99      0.99      3387\n",
      "           1       0.80      0.87      0.83       189\n",
      "\n",
      "    accuracy                           0.98      3576\n",
      "   macro avg       0.89      0.93      0.91      3576\n",
      "weighted avg       0.98      0.98      0.98      3576\n",
      "\n",
      "Confusion Matrix: \n",
      " [[3313   74]\n",
      " [  29  160]]\n"
     ]
    },
    {
     "name": "stderr",
     "output_type": "stream",
     "text": [
      "/usr/local/lib/python3.6/dist-packages/sklearn/linear_model/_logistic.py:940: ConvergenceWarning: lbfgs failed to converge (status=1):\n",
      "STOP: TOTAL NO. of ITERATIONS REACHED LIMIT.\n",
      "\n",
      "Increase the number of iterations (max_iter) or scale the data as shown in:\n",
      "    https://scikit-learn.org/stable/modules/preprocessing.html\n",
      "Please also refer to the documentation for alternative solver options:\n",
      "    https://scikit-learn.org/stable/modules/linear_model.html#logistic-regression\n",
      "  extra_warning_msg=_LOGISTIC_SOLVER_CONVERGENCE_MSG)\n"
     ]
    }
   ],
   "source": [
    "#Using Logistic Regression with default parameters to make predictions on test data\n",
    "classifier = LogisticRegression()\n",
    "classifier.fit(train_data , finaly_train)\n",
    "prediction=classifier.predict(test_data)\n",
    "model_score = accuracy_score(finaly_test, prediction)\n",
    "class_report=classification_report(finaly_test, prediction)\n",
    "# Print the accuracy report, scores and confusion matrix\n",
    "print(\"Accuracy:\",\"\\n\", model_score)\n",
    "print(\"Accuracy report:\",\"\\n\", report)\n",
    "print(\"Confusion Matrix:\",\"\\n\", confusion_matrix(y_test, prediction))"
   ]
  },
  {
   "cell_type": "code",
   "execution_count": 0,
   "metadata": {
    "colab": {},
    "colab_type": "code",
    "id": "O7gVZz6sW9dr"
   },
   "outputs": [],
   "source": [
    "#packages for ROC curve\n",
    "from sklearn.metrics import roc_curve\n",
    "from sklearn.metrics import roc_auc_score\n",
    "from matplotlib import pyplot"
   ]
  },
  {
   "cell_type": "code",
   "execution_count": 0,
   "metadata": {
    "colab": {},
    "colab_type": "code",
    "id": "rhA8wTioW9Gd"
   },
   "outputs": [],
   "source": [
    "# generate a no skill prediction \n",
    "probs = [0 for _ in range(len(finaly_test))]\n",
    "#predict the probabilities of test data\n",
    "l_probs = classifier.predict_proba(test_data)\n",
    "#consider only the fraudulent class\n",
    "l_probs = l_probs[:,1]\n",
    "#generate the AUC score for no skill and minority \n",
    "auc = roc_auc_score(finaly_test, probs)\n",
    "l_auc = roc_auc_score(finaly_test, l_probs)"
   ]
  },
  {
   "cell_type": "code",
   "execution_count": 0,
   "metadata": {
    "colab": {},
    "colab_type": "code",
    "id": "MzNvKovQkJz_"
   },
   "outputs": [],
   "source": [
    "#Generate the ROC curve\n",
    "falsep, truep, _ = roc_curve(finaly_test, probs)\n",
    "l_falsep, l_truep, _ = roc_curve(finaly_test, l_probs)"
   ]
  },
  {
   "cell_type": "code",
   "execution_count": 47,
   "metadata": {
    "colab": {
     "base_uri": "https://localhost:8080/",
     "height": 296
    },
    "colab_type": "code",
    "id": "OxeU3CeckUjG",
    "outputId": "9612adcf-d14c-401f-a523-cdb2316bc924"
   },
   "outputs": [
    {
     "data": {
      "text/plain": [
       "<matplotlib.legend.Legend at 0x7f0b1f6ef320>"
      ]
     },
     "execution_count": 47,
     "metadata": {
      "tags": []
     },
     "output_type": "execute_result"
    },
    {
     "data": {
      "image/png": "[encoded data removed]",
      "text/plain": [
       "<Figure size 432x288 with 1 Axes>"
      ]
     },
     "metadata": {
      "needs_background": "light",
      "tags": []
     },
     "output_type": "display_data"
    }
   ],
   "source": [
    "#plot the ROC curve\n",
    "pyplot.plot(falsep, truep, linestyle='--', label='No Skill',color='blue')\n",
    "pyplot.plot(l_falsep, l_truep, marker='.', label='Logistic',color='red')\n",
    "pyplot.xlabel('False Positive Rate')\n",
    "pyplot.ylabel('True Positive Rate')\n",
    "pyplot.legend()"
   ]
  }
 ],
 "metadata": {
  "accelerator": "GPU",
  "colab": {
   "collapsed_sections": [],
   "name": "Oversampling.ipynb",
   "provenance": []
  },
  "kernelspec": {
   "display_name": "Python 3",
   "language": "python",
   "name": "python3"
  },
  "language_info": {
   "codemirror_mode": {
    "name": "ipython",
    "version": 3
   },
   "file_extension": ".py",
   "mimetype": "text/x-python",
   "name": "python",
   "nbconvert_exporter": "python",
   "pygments_lexer": "ipython3",
   "version": "3.7.3"
  }
 },
 "nbformat": 4,
 "nbformat_minor": 1
}
