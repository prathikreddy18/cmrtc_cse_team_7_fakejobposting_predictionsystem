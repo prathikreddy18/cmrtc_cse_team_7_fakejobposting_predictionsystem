{
 "cells": [
  {
   "cell_type": "code",
   "execution_count": 0,
   "metadata": {
    "colab": {},
    "colab_type": "code",
    "id": "GrU1X8WVvToC"
   },
   "outputs": [],
   "source": [
    "#importing all the required packages\n",
    "import numpy as np\n",
    "import pandas as pd\n",
    "import nltk as nltk\n",
    "from sklearn.model_selection import train_test_split\n",
    "from sklearn.feature_extraction.text import CountVectorizer\n",
    "from sklearn.feature_extraction.text import TfidfTransformer\n",
    "from sklearn.naive_bayes import MultinomialNB\n",
    "from sklearn.metrics import classification_report\n",
    "import sklearn\n",
    "from sklearn.linear_model import LogisticRegression\n",
    "from sklearn.model_selection import cross_val_score\n",
    "from sklearn.model_selection import StratifiedKFold\n",
    "from sklearn.feature_extraction.text import TfidfVectorizer\n",
    "from sklearn.metrics import accuracy_score\n",
    "from sklearn.model_selection import cross_val_score\n",
    "import statistics as s\n",
    "from sklearn.metrics import confusion_matrix \n",
    "from scipy.sparse import hstack"
   ]
  },
  {
   "cell_type": "code",
   "execution_count": 1,
   "metadata": {
    "colab": {
     "base_uri": "https://localhost:8080/",
     "height": 122
    },
    "colab_type": "code",
    "id": "U5SDnKgAyIIg",
    "outputId": "af1287a1-96d2-4326-9f5f-a5f5d65fe1a6"
   },
   "outputs": [
    {
     "name": "stdout",
     "output_type": "stream",
     "text": [
      "Go to this URL in a browser: https://accounts.google.com/o/oauth2/auth?client_id=947318989803-6bn6qk8qdgf4n4g3pfee6491hc0brc4i.apps.googleusercontent.com&redirect_uri=urn%3aietf%3awg%3aoauth%3a2.0%3aoob&response_type=code&scope=email%20https%3a%2f%2fwww.googleapis.com%2fauth%2fdocs.test%20https%3a%2f%2fwww.googleapis.com%2fauth%2fdrive%20https%3a%2f%2fwww.googleapis.com%2fauth%2fdrive.photos.readonly%20https%3a%2f%2fwww.googleapis.com%2fauth%2fpeopleapi.readonly\n",
      "\n",
      "Enter your authorization code:\n",
      "··········\n",
      "Mounted at /content/drive\n"
     ]
    }
   ],
   "source": [
    "from google.colab import drive\n",
    "drive.mount('/content/drive')"
   ]
  },
  {
   "cell_type": "code",
   "execution_count": 0,
   "metadata": {
    "colab": {},
    "colab_type": "code",
    "id": "WNlnzlWvyQon"
   },
   "outputs": [],
   "source": [
    "#importing dataset that is preprocessed\n",
    "df=pd.read_csv('/content/drive/My Drive/AIt/job_data.csv')"
   ]
  },
  {
   "cell_type": "code",
   "execution_count": 5,
   "metadata": {
    "colab": {
     "base_uri": "https://localhost:8080/",
     "height": 632
    },
    "colab_type": "code",
    "id": "XbzGrxYpyXZ_",
    "outputId": "777a0fcd-2108-4a8a-8206-2ab395ed5c2c"
   },
   "outputs": [
    {
     "data": {
      "text/html": [
       "<div>\n",
       "<style scoped>\n",
       "    .dataframe tbody tr th:only-of-type {\n",
       "        vertical-align: middle;\n",
       "    }\n",
       "\n",
       "    .dataframe tbody tr th {\n",
       "        vertical-align: top;\n",
       "    }\n",
       "\n",
       "    .dataframe thead th {\n",
       "        text-align: right;\n",
       "    }\n",
       "</style>\n",
       "<table border=\"1\" class=\"dataframe\">\n",
       "  <thead>\n",
       "    <tr style=\"text-align: right;\">\n",
       "      <th></th>\n",
       "      <th>Unnamed: 0</th>\n",
       "      <th>job_data</th>\n",
       "      <th>telecommuting</th>\n",
       "      <th>has_company_logo</th>\n",
       "      <th>has_questions</th>\n",
       "      <th>fraudulent</th>\n",
       "      <th>Contract</th>\n",
       "      <th>Full-time</th>\n",
       "      <th>Other</th>\n",
       "      <th>Part-time</th>\n",
       "      <th>Temporary</th>\n",
       "      <th>Information Technology</th>\n",
       "      <th>Management</th>\n",
       "      <th>Marketing and Finance</th>\n",
       "      <th>Other.1</th>\n",
       "      <th>Sales</th>\n",
       "    </tr>\n",
       "  </thead>\n",
       "  <tbody>\n",
       "    <tr>\n",
       "      <th>0</th>\n",
       "      <td>0</td>\n",
       "      <td>market intern we re food52 and we ve creat a g...</td>\n",
       "      <td>0</td>\n",
       "      <td>1</td>\n",
       "      <td>0</td>\n",
       "      <td>0</td>\n",
       "      <td>0</td>\n",
       "      <td>0</td>\n",
       "      <td>1</td>\n",
       "      <td>0</td>\n",
       "      <td>0</td>\n",
       "      <td>0</td>\n",
       "      <td>0</td>\n",
       "      <td>1</td>\n",
       "      <td>0</td>\n",
       "      <td>0</td>\n",
       "    </tr>\n",
       "    <tr>\n",
       "      <th>1</th>\n",
       "      <td>1</td>\n",
       "      <td>custom servic cloud video product 90 second th...</td>\n",
       "      <td>0</td>\n",
       "      <td>1</td>\n",
       "      <td>0</td>\n",
       "      <td>0</td>\n",
       "      <td>0</td>\n",
       "      <td>1</td>\n",
       "      <td>0</td>\n",
       "      <td>0</td>\n",
       "      <td>0</td>\n",
       "      <td>0</td>\n",
       "      <td>0</td>\n",
       "      <td>0</td>\n",
       "      <td>1</td>\n",
       "      <td>0</td>\n",
       "    </tr>\n",
       "    <tr>\n",
       "      <th>2</th>\n",
       "      <td>2</td>\n",
       "      <td>commiss machineri assist cma valor servic prov...</td>\n",
       "      <td>0</td>\n",
       "      <td>1</td>\n",
       "      <td>0</td>\n",
       "      <td>0</td>\n",
       "      <td>0</td>\n",
       "      <td>1</td>\n",
       "      <td>0</td>\n",
       "      <td>0</td>\n",
       "      <td>0</td>\n",
       "      <td>1</td>\n",
       "      <td>0</td>\n",
       "      <td>0</td>\n",
       "      <td>0</td>\n",
       "      <td>0</td>\n",
       "    </tr>\n",
       "    <tr>\n",
       "      <th>3</th>\n",
       "      <td>3</td>\n",
       "      <td>account execut washington dc our passion for i...</td>\n",
       "      <td>0</td>\n",
       "      <td>1</td>\n",
       "      <td>0</td>\n",
       "      <td>0</td>\n",
       "      <td>0</td>\n",
       "      <td>1</td>\n",
       "      <td>0</td>\n",
       "      <td>0</td>\n",
       "      <td>0</td>\n",
       "      <td>0</td>\n",
       "      <td>0</td>\n",
       "      <td>0</td>\n",
       "      <td>0</td>\n",
       "      <td>1</td>\n",
       "    </tr>\n",
       "    <tr>\n",
       "      <th>4</th>\n",
       "      <td>4</td>\n",
       "      <td>bill review manag spotsourc solut llc is a glo...</td>\n",
       "      <td>0</td>\n",
       "      <td>1</td>\n",
       "      <td>1</td>\n",
       "      <td>0</td>\n",
       "      <td>0</td>\n",
       "      <td>1</td>\n",
       "      <td>0</td>\n",
       "      <td>0</td>\n",
       "      <td>0</td>\n",
       "      <td>0</td>\n",
       "      <td>0</td>\n",
       "      <td>0</td>\n",
       "      <td>1</td>\n",
       "      <td>0</td>\n",
       "    </tr>\n",
       "  </tbody>\n",
       "</table>\n",
       "</div>"
      ],
      "text/plain": [
       "   Unnamed: 0  ... Sales\n",
       "0           0  ...     0\n",
       "1           1  ...     0\n",
       "2           2  ...     0\n",
       "3           3  ...     1\n",
       "4           4  ...     0\n",
       "\n",
       "[5 rows x 16 columns]"
      ]
     },
     "execution_count": 5,
     "metadata": {
      "tags": []
     },
     "output_type": "execute_result"
    }
   ],
   "source": [
    "df.head()"
   ]
  },
  {
   "cell_type": "code",
   "execution_count": 0,
   "metadata": {
    "colab": {},
    "colab_type": "code",
    "id": "5Wq_YYBTyYoB"
   },
   "outputs": [],
   "source": [
    "#Dropping the Un-named column\n",
    "df.drop(df.columns[df.columns.str.contains('unnamed',case = False)],axis = 1, inplace = True)"
   ]
  },
  {
   "cell_type": "code",
   "execution_count": 0,
   "metadata": {
    "colab": {},
    "colab_type": "code",
    "id": "kRNeymVkMCka"
   },
   "outputs": [],
   "source": [
    "# copy the data frame into a new variable to use it for horizontal stack\n",
    "new_df=df.copy()\n",
    "new_df.drop(['job_data','fraudulent'],axis=1,inplace=True)"
   ]
  },
  {
   "cell_type": "code",
   "execution_count": 0,
   "metadata": {
    "colab": {},
    "colab_type": "code",
    "id": "fyRLwUwkybz8"
   },
   "outputs": [],
   "source": [
    "#Preparing the data for train test split\n",
    "x=df.drop('fraudulent',axis=1)\n",
    "y=df['fraudulent']"
   ]
  },
  {
   "cell_type": "code",
   "execution_count": 0,
   "metadata": {
    "colab": {},
    "colab_type": "code",
    "id": "f-V02BrlycK5"
   },
   "outputs": [],
   "source": [
    "#splitting the data into train and test set\n",
    "X_train, X_test, y_train, y_test = train_test_split(x, y, test_size=0.2)"
   ]
  },
  {
   "cell_type": "code",
   "execution_count": 0,
   "metadata": {
    "colab": {},
    "colab_type": "code",
    "id": "dEdzbMX4ycOM"
   },
   "outputs": [],
   "source": [
    "#reset the custom index generated during train, test split\n",
    "X_train.reset_index(drop=True,inplace=True)\n",
    "y_train.reset_index(drop=True,inplace=True)"
   ]
  },
  {
   "cell_type": "code",
   "execution_count": 11,
   "metadata": {
    "colab": {
     "base_uri": "https://localhost:8080/",
     "height": 598
    },
    "colab_type": "code",
    "id": "oMnd79Hp-_cG",
    "outputId": "4a4f4b52-6f7a-4461-b170-43979c7336d4"
   },
   "outputs": [
    {
     "data": {
      "text/html": [
       "<div>\n",
       "<style scoped>\n",
       "    .dataframe tbody tr th:only-of-type {\n",
       "        vertical-align: middle;\n",
       "    }\n",
       "\n",
       "    .dataframe tbody tr th {\n",
       "        vertical-align: top;\n",
       "    }\n",
       "\n",
       "    .dataframe thead th {\n",
       "        text-align: right;\n",
       "    }\n",
       "</style>\n",
       "<table border=\"1\" class=\"dataframe\">\n",
       "  <thead>\n",
       "    <tr style=\"text-align: right;\">\n",
       "      <th></th>\n",
       "      <th>job_data</th>\n",
       "      <th>telecommuting</th>\n",
       "      <th>has_company_logo</th>\n",
       "      <th>has_questions</th>\n",
       "      <th>Contract</th>\n",
       "      <th>Full-time</th>\n",
       "      <th>Other</th>\n",
       "      <th>Part-time</th>\n",
       "      <th>Temporary</th>\n",
       "      <th>Information Technology</th>\n",
       "      <th>Management</th>\n",
       "      <th>Marketing and Finance</th>\n",
       "      <th>Other.1</th>\n",
       "      <th>Sales</th>\n",
       "    </tr>\n",
       "  </thead>\n",
       "  <tbody>\n",
       "    <tr>\n",
       "      <th>0</th>\n",
       "      <td>administr assist katalystfp is a specialti fin...</td>\n",
       "      <td>0</td>\n",
       "      <td>1</td>\n",
       "      <td>1</td>\n",
       "      <td>0</td>\n",
       "      <td>1</td>\n",
       "      <td>0</td>\n",
       "      <td>0</td>\n",
       "      <td>0</td>\n",
       "      <td>0</td>\n",
       "      <td>1</td>\n",
       "      <td>0</td>\n",
       "      <td>0</td>\n",
       "      <td>0</td>\n",
       "    </tr>\n",
       "    <tr>\n",
       "      <th>1</th>\n",
       "      <td>client success manag we live in an increasingl...</td>\n",
       "      <td>0</td>\n",
       "      <td>1</td>\n",
       "      <td>1</td>\n",
       "      <td>0</td>\n",
       "      <td>1</td>\n",
       "      <td>0</td>\n",
       "      <td>0</td>\n",
       "      <td>0</td>\n",
       "      <td>0</td>\n",
       "      <td>0</td>\n",
       "      <td>0</td>\n",
       "      <td>0</td>\n",
       "      <td>1</td>\n",
       "    </tr>\n",
       "    <tr>\n",
       "      <th>2</th>\n",
       "      <td>regist nurs rn spotsourc solut llc is a global...</td>\n",
       "      <td>1</td>\n",
       "      <td>1</td>\n",
       "      <td>1</td>\n",
       "      <td>0</td>\n",
       "      <td>1</td>\n",
       "      <td>0</td>\n",
       "      <td>0</td>\n",
       "      <td>0</td>\n",
       "      <td>0</td>\n",
       "      <td>0</td>\n",
       "      <td>0</td>\n",
       "      <td>1</td>\n",
       "      <td>0</td>\n",
       "    </tr>\n",
       "    <tr>\n",
       "      <th>3</th>\n",
       "      <td>applic support engin industri color softwar is...</td>\n",
       "      <td>0</td>\n",
       "      <td>1</td>\n",
       "      <td>0</td>\n",
       "      <td>0</td>\n",
       "      <td>1</td>\n",
       "      <td>0</td>\n",
       "      <td>0</td>\n",
       "      <td>0</td>\n",
       "      <td>1</td>\n",
       "      <td>0</td>\n",
       "      <td>0</td>\n",
       "      <td>0</td>\n",
       "      <td>0</td>\n",
       "    </tr>\n",
       "    <tr>\n",
       "      <th>4</th>\n",
       "      <td>frontend ninja and web develop hello worldtale...</td>\n",
       "      <td>0</td>\n",
       "      <td>1</td>\n",
       "      <td>1</td>\n",
       "      <td>0</td>\n",
       "      <td>1</td>\n",
       "      <td>0</td>\n",
       "      <td>0</td>\n",
       "      <td>0</td>\n",
       "      <td>1</td>\n",
       "      <td>0</td>\n",
       "      <td>0</td>\n",
       "      <td>0</td>\n",
       "      <td>0</td>\n",
       "    </tr>\n",
       "  </tbody>\n",
       "</table>\n",
       "</div>"
      ],
      "text/plain": [
       "                                            job_data  ...  Sales\n",
       "0  administr assist katalystfp is a specialti fin...  ...      0\n",
       "1  client success manag we live in an increasingl...  ...      1\n",
       "2  regist nurs rn spotsourc solut llc is a global...  ...      0\n",
       "3  applic support engin industri color softwar is...  ...      0\n",
       "4  frontend ninja and web develop hello worldtale...  ...      0\n",
       "\n",
       "[5 rows x 14 columns]"
      ]
     },
     "execution_count": 11,
     "metadata": {
      "tags": []
     },
     "output_type": "execute_result"
    }
   ],
   "source": [
    "#check the head of the train data\n",
    "X_train.head()"
   ]
  },
  {
   "cell_type": "code",
   "execution_count": 12,
   "metadata": {
    "colab": {
     "base_uri": "https://localhost:8080/",
     "height": 581
    },
    "colab_type": "code",
    "id": "isW9pehBypx7",
    "outputId": "9e70c9de-2f9d-44cf-d291-9b86ff8fb00f"
   },
   "outputs": [
    {
     "name": "stderr",
     "output_type": "stream",
     "text": [
      "/usr/local/lib/python3.6/dist-packages/sklearn/model_selection/_split.py:296: FutureWarning: Setting a random_state has no effect since shuffle is False. This will raise an error in 0.24. You should leave random_state to its default (None), or set shuffle=True.\n",
      "  FutureWarning\n"
     ]
    },
    {
     "name": "stdout",
     "output_type": "stream",
     "text": [
      "[ 2855  2856  2857 ... 14300 14301 14302]\n",
      "[   0    1    2 ... 2976 3015 3037]\n",
      "tfidf1\n"
     ]
    },
    {
     "name": "stderr",
     "output_type": "stream",
     "text": [
      "/usr/local/lib/python3.6/dist-packages/sklearn/metrics/_classification.py:1272: UndefinedMetricWarning: Precision and F-score are ill-defined and being set to 0.0 in labels with no predicted samples. Use `zero_division` parameter to control this behavior.\n",
      "  _warn_prf(average, modifier, msg_start, len(result))\n"
     ]
    },
    {
     "name": "stdout",
     "output_type": "stream",
     "text": [
      "0.9510660608178958\n",
      "[    0     1     2 ... 14300 14301 14302]\n",
      "[2855 2856 2857 ... 5719 5720 5721]\n",
      "tfidf2\n"
     ]
    },
    {
     "name": "stderr",
     "output_type": "stream",
     "text": [
      "/usr/local/lib/python3.6/dist-packages/sklearn/metrics/_classification.py:1272: UndefinedMetricWarning: Precision and F-score are ill-defined and being set to 0.0 in labels with no predicted samples. Use `zero_division` parameter to control this behavior.\n",
      "  _warn_prf(average, modifier, msg_start, len(result))\n"
     ]
    },
    {
     "name": "stdout",
     "output_type": "stream",
     "text": [
      "0.9510660608178958\n",
      "[    0     1     2 ... 14300 14301 14302]\n",
      "[5722 5723 5724 ... 8590 8591 8592]\n",
      "tfidf3\n"
     ]
    },
    {
     "name": "stderr",
     "output_type": "stream",
     "text": [
      "/usr/local/lib/python3.6/dist-packages/sklearn/metrics/_classification.py:1272: UndefinedMetricWarning: Precision and F-score are ill-defined and being set to 0.0 in labels with no predicted samples. Use `zero_division` parameter to control this behavior.\n",
      "  _warn_prf(average, modifier, msg_start, len(result))\n"
     ]
    },
    {
     "name": "stdout",
     "output_type": "stream",
     "text": [
      "0.9510660608178958\n",
      "[    0     1     2 ... 14300 14301 14302]\n",
      "[ 8480  8488  8501 ... 11455 11456 11457]\n",
      "tfidf4\n"
     ]
    },
    {
     "name": "stderr",
     "output_type": "stream",
     "text": [
      "/usr/local/lib/python3.6/dist-packages/sklearn/metrics/_classification.py:1272: UndefinedMetricWarning: Precision and F-score are ill-defined and being set to 0.0 in labels with no predicted samples. Use `zero_division` parameter to control this behavior.\n",
      "  _warn_prf(average, modifier, msg_start, len(result))\n"
     ]
    },
    {
     "name": "stdout",
     "output_type": "stream",
     "text": [
      "0.9513986013986014\n",
      "[    0     1     2 ... 11455 11456 11457]\n",
      "[11163 11174 11184 ... 14300 14301 14302]\n",
      "tfidf5\n",
      "0.9513986013986014\n"
     ]
    },
    {
     "name": "stderr",
     "output_type": "stream",
     "text": [
      "/usr/local/lib/python3.6/dist-packages/sklearn/metrics/_classification.py:1272: UndefinedMetricWarning: Precision and F-score are ill-defined and being set to 0.0 in labels with no predicted samples. Use `zero_division` parameter to control this behavior.\n",
      "  _warn_prf(average, modifier, msg_start, len(result))\n"
     ]
    }
   ],
   "source": [
    "#Doing K fold Cross Validation on the training set. We use 5 folds so n_splits=5\n",
    "folds = StratifiedKFold(n_splits=5, random_state=0)\n",
    "i=0\n",
    "#create a list for storing accuracy reports and scores\n",
    "acc_report=[]\n",
    "acc_score=[]\n",
    "for train, test in folds.split(X_train, y_train):\n",
    "    print(train)\n",
    "    print(test)\n",
    "    #taking only text data from training data into another variable to perform TF-idf vectorization\n",
    "    x_train1, x_test1 = X_train['job_data'][train], X_train['job_data'][test]\n",
    "    #taking the test data into another variable \n",
    "    y_train1, y_test1 = y_train[train], y_train[test]\n",
    "    i=i+1\n",
    "    #Using TF-IDF vectorizer to generate a TF-IDF matrix with ngram range (1,2)\n",
    "    tfidf = TfidfVectorizer(stop_words=\"english\",ngram_range=(1,2))\n",
    "    x_train1 = tfidf.fit_transform(x_train1)\n",
    "    x_test1 = tfidf.transform(x_test1)\n",
    "    print(\"tfidf\"+str(i))\n",
    "    \n",
    "    #Using the copy of the dataframe with no job_data to access the other features of the dataset\n",
    "    rx_train=new_df.iloc[train]\n",
    "    rx_test=new_df.iloc[test]\n",
    "\n",
    "    #Use hstack to horizontally stack the job_data Tf-idf matrix to other features of the dataset\n",
    "    xtrain_data=hstack( [x_train1,rx_train] )\n",
    "    xtest_data=hstack( [x_test1,rx_test] )\n",
    "\n",
    "    #Perform Naive Bayes classification to make predictions on the train data and check how model works on our dataset.\n",
    "    clf = MultinomialNB(alpha=1.0)\n",
    "    clf.fit(xtrain_data, y_train1)\n",
    "    y_pred = clf.predict(xtest_data)\n",
    "    scores = accuracy_score(y_test1, y_pred)\n",
    "    report=classification_report(y_test1,y_pred)\n",
    "    #use append() to store all the 5 reports and scores in the created list\n",
    "    acc_report.append(report)\n",
    "    acc_score.append(scores)\n",
    "    print(scores)"
   ]
  },
  {
   "cell_type": "code",
   "execution_count": 0,
   "metadata": {
    "colab": {
     "base_uri": "https://localhost:8080/",
     "height": 34
    },
    "colab_type": "code",
    "id": "Pc0OCdd9yp5r",
    "outputId": "80d06894-34c8-4a02-8ead-5d2cf8230992"
   },
   "outputs": [
    {
     "name": "stdout",
     "output_type": "stream",
     "text": [
      "0.9515486540722472\n"
     ]
    }
   ],
   "source": [
    "#mean of validation score\n",
    "  print(s.mean(acc_score))"
   ]
  },
  {
   "cell_type": "code",
   "execution_count": 0,
   "metadata": {
    "colab": {},
    "colab_type": "code",
    "id": "un6ZQZ39yqBk"
   },
   "outputs": [],
   "source": [
    "#Now using TF-IDF vectorizer to generate TF-IDF matrix for both X_train and x_test with ngram range (1,2)\n",
    "tfidf = TfidfVectorizer(stop_words=\"english\",ngram_range=(1,2))\n",
    "x_train=tfidf.fit_transform(X_train['job_data'])\n",
    "x_test=tfidf.transform(X_test['job_data'])"
   ]
  },
  {
   "cell_type": "code",
   "execution_count": 0,
   "metadata": {
    "colab": {
     "base_uri": "https://localhost:8080/",
     "height": 34
    },
    "colab_type": "code",
    "id": "hz6402K3kkeE",
    "outputId": "b391a832-3239-4028-8f89-06c871d0b78c"
   },
   "outputs": [
    {
     "data": {
      "text/plain": [
       "(14303, 778233)"
      ]
     },
     "execution_count": 16,
     "metadata": {
      "tags": []
     },
     "output_type": "execute_result"
    }
   ],
   "source": [
    "# The shape of X_train will tell us how many ngrams have been generated\n",
    "x_train.shape"
   ]
  },
  {
   "cell_type": "code",
   "execution_count": 0,
   "metadata": {
    "colab": {
     "base_uri": "https://localhost:8080/",
     "height": 122
    },
    "colab_type": "code",
    "id": "3oB9GN8zDaTF",
    "outputId": "57e13b66-1bb8-4809-cec0-7e3d7625fb85"
   },
   "outputs": [
    {
     "name": "stderr",
     "output_type": "stream",
     "text": [
      "/usr/local/lib/python3.6/dist-packages/pandas/core/frame.py:3997: SettingWithCopyWarning: \n",
      "A value is trying to be set on a copy of a slice from a DataFrame\n",
      "\n",
      "See the caveats in the documentation: https://pandas.pydata.org/pandas-docs/stable/user_guide/indexing.html#returning-a-view-versus-a-copy\n",
      "  errors=errors,\n"
     ]
    }
   ],
   "source": [
    "#Drop job_data from train and test set for horizontal stacking of job_data's TF-IDF matrix\n",
    "X_train.drop('job_data',axis=1,inplace=True)\n",
    "X_test.drop('job_data',axis=1,inplace=True)"
   ]
  },
  {
   "cell_type": "code",
   "execution_count": 0,
   "metadata": {
    "colab": {},
    "colab_type": "code",
    "id": "4T9nTod1Ceji"
   },
   "outputs": [],
   "source": [
    "#Use hstack to horizontal stack the TF-IDF matrix to the other features\n",
    "train_data=hstack( [X_train,x_train] )\n",
    "test_data=hstack( [X_test,x_test] )"
   ]
  },
  {
   "cell_type": "code",
   "execution_count": 0,
   "metadata": {
    "colab": {
     "base_uri": "https://localhost:8080/",
     "height": 343
    },
    "colab_type": "code",
    "id": "6stmHSXpCe12",
    "outputId": "840273ec-4e89-436d-d24c-90335cb6ffee"
   },
   "outputs": [
    {
     "name": "stdout",
     "output_type": "stream",
     "text": [
      "Naive Bayes Results will all features:\n",
      "Accuracy: \n",
      " 0.9519015659955258\n",
      "Accuracy report: \n",
      "               precision    recall  f1-score   support\n",
      "\n",
      "           0       0.95      1.00      0.98      3404\n",
      "           1       0.00      0.00      0.00       172\n",
      "\n",
      "    accuracy                           0.95      3576\n",
      "   macro avg       0.48      0.50      0.49      3576\n",
      "weighted avg       0.91      0.95      0.93      3576\n",
      "\n",
      "Confusion Matrix: \n",
      " [[3404    0]\n",
      " [ 172    0]]\n"
     ]
    },
    {
     "name": "stderr",
     "output_type": "stream",
     "text": [
      "/usr/local/lib/python3.6/dist-packages/sklearn/metrics/_classification.py:1272: UndefinedMetricWarning: Precision and F-score are ill-defined and being set to 0.0 in labels with no predicted samples. Use `zero_division` parameter to control this behavior.\n",
      "  _warn_prf(average, modifier, msg_start, len(result))\n"
     ]
    }
   ],
   "source": [
    "#using Naive Bayes with smoothing factor value as 1 and make predictionb on test data\n",
    "clf = MultinomialNB(alpha=1.0)\n",
    "clf.fit(train_data,y_train)\n",
    "pred = clf.predict(test_data)\n",
    "scores = accuracy_score(y_test, pred)\n",
    "report=classification_report(y_test, pred)\n",
    "# Print the accuracy report, scores and confusion matrix\n",
    "print(\"Naive Bayes Results will all features:\")\n",
    "print(\"Accuracy:\",\"\\n\",scores)\n",
    "print(\"Accuracy report:\",\"\\n\",report)\n",
    "print(\"Confusion Matrix:\",\"\\n\",confusion_matrix(y_test, pred))"
   ]
  },
  {
   "cell_type": "code",
   "execution_count": 0,
   "metadata": {
    "colab": {
     "base_uri": "https://localhost:8080/",
     "height": 289
    },
    "colab_type": "code",
    "id": "7Pp0L66MJCWI",
    "outputId": "1f7624be-4db8-4be1-8070-9229c5e255f1"
   },
   "outputs": [
    {
     "name": "stdout",
     "output_type": "stream",
     "text": [
      "Logistic Regression using all the features\n",
      "Accuracy: \n",
      " 0.9725950782997763\n",
      "Accuracy report: \n",
      "               precision    recall  f1-score   support\n",
      "\n",
      "           0       0.95      1.00      0.98      3404\n",
      "           1       0.00      0.00      0.00       172\n",
      "\n",
      "    accuracy                           0.95      3576\n",
      "   macro avg       0.48      0.50      0.49      3576\n",
      "weighted avg       0.91      0.95      0.93      3576\n",
      "\n",
      "Confusion Matrix: \n",
      " [[3401    3]\n",
      " [  95   77]]\n"
     ]
    }
   ],
   "source": [
    "#Using Logistic Regression with default parameters to make predictions on test data\n",
    "classifier = LogisticRegression()\n",
    "classifier.fit(train_data , y_train)\n",
    "prediction=classifier.predict(test_data)\n",
    "model_score = accuracy_score(y_test, prediction)\n",
    "class_report=classification_report(y_test, prediction)\n",
    "# Print the accuracy report, scores and confusion matrix\n",
    "print(\"Logistic Regression using all the features\")\n",
    "print(\"Accuracy:\",\"\\n\", model_score)\n",
    "print(\"Accuracy report:\",\"\\n\", report)\n",
    "print(\"Confusion Matrix:\",\"\\n\", confusion_matrix(y_test, prediction))"
   ]
  },
  {
   "cell_type": "code",
   "execution_count": 0,
   "metadata": {
    "colab": {
     "base_uri": "https://localhost:8080/",
     "height": 289
    },
    "colab_type": "code",
    "id": "_IpMc0UrfHIM",
    "outputId": "738a0d0d-4579-4178-e304-758c793f795a"
   },
   "outputs": [
    {
     "name": "stdout",
     "output_type": "stream",
     "text": [
      "Logistic Regression using all the features:\n",
      "Accuracy: \n",
      " 0.9725950782997763\n",
      "Accuracy report: \n",
      "               precision    recall  f1-score   support\n",
      "\n",
      "           0       0.95      1.00      0.98      3404\n",
      "           1       0.00      0.00      0.00       172\n",
      "\n",
      "    accuracy                           0.95      3576\n",
      "   macro avg       0.48      0.50      0.49      3576\n",
      "weighted avg       0.91      0.95      0.93      3576\n",
      "\n",
      "Confusion Matrix: \n",
      " [[3401    3]\n",
      " [  95   77]]\n"
     ]
    }
   ],
   "source": [
    "# Using Logistic regression with parameters Penalty 'l2', solver 'lbfgs' and multi_class as 'ovr'\n",
    "classifier = LogisticRegression(penalty='l2',solver='lbfgs',multi_class='ovr')\n",
    "classifier.fit(train_data , y_train)\n",
    "prediction=classifier.predict(test_data)\n",
    "model_score = accuracy_score(y_test, prediction)\n",
    "class_report=classification_report(y_test, prediction)\n",
    "# Print the accuracy report, scores and confusion matrix\n",
    "print(\"Logistic Regression using all the features:\")\n",
    "print(\"Accuracy:\",\"\\n\", model_score)\n",
    "print(\"Accuracy report:\",\"\\n\", report)\n",
    "print(\"Confusion Matrix:\",\"\\n\", confusion_matrix(y_test, prediction))"
   ]
  },
  {
   "cell_type": "code",
   "execution_count": 0,
   "metadata": {
    "colab": {
     "base_uri": "https://localhost:8080/",
     "height": 445
    },
    "colab_type": "code",
    "id": "2IgPbngpfHR6",
    "outputId": "d7fc2616-0fb3-4450-a9eb-82b38a5f6140"
   },
   "outputs": [
    {
     "name": "stdout",
     "output_type": "stream",
     "text": [
      "Logistic Regression using all the features:\n",
      "Accuracy: \n",
      " 0.9611297539149888\n",
      "Accuracy report: \n",
      "               precision    recall  f1-score   support\n",
      "\n",
      "           0       0.95      1.00      0.98      3404\n",
      "           1       0.00      0.00      0.00       172\n",
      "\n",
      "    accuracy                           0.95      3576\n",
      "   macro avg       0.48      0.50      0.49      3576\n",
      "weighted avg       0.91      0.95      0.93      3576\n",
      "\n",
      "Confusion Matrix: \n",
      " [[3281  123]\n",
      " [  16  156]]\n"
     ]
    },
    {
     "name": "stderr",
     "output_type": "stream",
     "text": [
      "/usr/local/lib/python3.6/dist-packages/sklearn/linear_model/_logistic.py:940: ConvergenceWarning: lbfgs failed to converge (status=1):\n",
      "STOP: TOTAL NO. of ITERATIONS REACHED LIMIT.\n",
      "\n",
      "Increase the number of iterations (max_iter) or scale the data as shown in:\n",
      "    https://scikit-learn.org/stable/modules/preprocessing.html\n",
      "Please also refer to the documentation for alternative solver options:\n",
      "    https://scikit-learn.org/stable/modules/linear_model.html#logistic-regression\n",
      "  extra_warning_msg=_LOGISTIC_SOLVER_CONVERGENCE_MSG)\n"
     ]
    }
   ],
   "source": [
    "#Using logistic regression as before with parameters Penalty 'l2', solver 'lbfgs' and multi_class as 'ovr'\n",
    "#Now set the parameter class_weight as 'balanced'\n",
    "classifier = LogisticRegression(penalty='l2',solver='lbfgs',multi_class='ovr',class_weight='balanced')\n",
    "classifier.fit(train_data , y_train)\n",
    "prediction=classifier.predict(test_data)\n",
    "model_score = accuracy_score(y_test, prediction)\n",
    "class_report=classification_report(y_test, prediction)\n",
    "# Print the accuracy report, scores and confusion matrix\n",
    "print(\"Logistic Regression using all the features:\")\n",
    "print(\"Accuracy:\",\"\\n\", model_score)\n",
    "print(\"Accuracy report:\",\"\\n\", report)\n",
    "print(\"Confusion Matrix:\",\"\\n\", confusion_matrix(y_test, prediction))"
   ]
  },
  {
   "cell_type": "code",
   "execution_count": 0,
   "metadata": {
    "colab": {},
    "colab_type": "code",
    "id": "VeZ7AuV2fHfp"
   },
   "outputs": [],
   "source": []
  },
  {
   "cell_type": "code",
   "execution_count": 0,
   "metadata": {
    "colab": {},
    "colab_type": "code",
    "id": "D8mMySZjfHdy"
   },
   "outputs": [],
   "source": []
  },
  {
   "cell_type": "code",
   "execution_count": 0,
   "metadata": {
    "colab": {},
    "colab_type": "code",
    "id": "WZFvaCzRfHPZ"
   },
   "outputs": [],
   "source": []
  }
 ],
 "metadata": {
  "accelerator": "GPU",
  "colab": {
   "collapsed_sections": [],
   "name": "All_features_models .ipynb",
   "provenance": []
  },
  "kernelspec": {
   "display_name": "Python 3",
   "language": "python",
   "name": "python3"
  },
  "language_info": {
   "codemirror_mode": {
    "name": "ipython",
    "version": 3
   },
   "file_extension": ".py",
   "mimetype": "text/x-python",
   "name": "python",
   "nbconvert_exporter": "python",
   "pygments_lexer": "ipython3",
   "version": "3.7.3"
  }
 },
 "nbformat": 4,
 "nbformat_minor": 1
}
